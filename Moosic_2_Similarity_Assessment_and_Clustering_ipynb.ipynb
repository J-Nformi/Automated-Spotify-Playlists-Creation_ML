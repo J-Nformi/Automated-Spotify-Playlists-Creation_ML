{
  "nbformat": 4,
  "nbformat_minor": 0,
  "metadata": {
    "colab": {
      "provenance": [],
      "mount_file_id": "1zeqcy0x4zWCVLTU4Bnct47q2IR_M-f1v",
      "authorship_tag": "ABX9TyPbwh5/Dp4vsdo20mqYDV7G",
      "include_colab_link": true
    },
    "kernelspec": {
      "name": "python3",
      "display_name": "Python 3"
    },
    "language_info": {
      "name": "python"
    }
  },
  "cells": [
    {
      "cell_type": "markdown",
      "metadata": {
        "id": "view-in-github",
        "colab_type": "text"
      },
      "source": [
        "<a href=\"https://colab.research.google.com/github/J-Nformi/Automated-Spotify-Playlists-Creation_ML/blob/Notebooks/Moosic_2_Similarity_Assessment_and_Clustering_ipynb.ipynb\" target=\"_parent\"><img src=\"https://colab.research.google.com/assets/colab-badge.svg\" alt=\"Open In Colab\"/></a>"
      ]
    },
    {
      "cell_type": "markdown",
      "source": [
        "#Notebook 2: Similarity Assessment and Clustering\n",
        "Purpose: Assess song similarity, perform clustering. Tasks: Define similarity metrics Compare human-defined criteria with calculated similarities Implement K-Means and assess cluster quality"
      ],
      "metadata": {
        "id": "HXS-1ATAlVre"
      }
    },
    {
      "cell_type": "markdown",
      "source": [
        "Imports"
      ],
      "metadata": {
        "id": "3PE3D6YGUE1i"
      }
    },
    {
      "cell_type": "code",
      "source": [
        "import pandas as pd\n",
        "import seaborn as sns\n",
        "import matplotlib.pyplot as plt\n",
        "from sklearn.cluster import KMeans\n",
        "from sklearn.preprocessing import RobustScaler\n",
        "from sklearn.preprocessing import MinMaxScaler\n",
        "from yellowbrick.cluster import KElbowVisualizer\n",
        "import numpy as np\n",
        "from sklearn.metrics import silhouette_score\n",
        "from sklearn.metrics import davies_bouldin_score\n",
        "from sklearn.ensemble import ExtraTreesClassifier\n",
        "from sklearn.preprocessing import LabelEncoder\n",
        "from sklearn.decomposition import PCA\n",
        "from sklearn.ensemble import RandomForestRegressor"
      ],
      "metadata": {
        "id": "CVeuGp2olYpk"
      },
      "execution_count": null,
      "outputs": []
    },
    {
      "cell_type": "code",
      "source": [
        "import pandas as pd\n",
        "\n",
        "# Read the CSV file using the correct syntax\n",
        "file_path = '/content/drive/MyDrive/DS Bootcamp/Machine Learning/Moosic_Kmeans/song_features_cleaned.csv'\n",
        "songs = pd.read_csv(file_path)\n"
      ],
      "metadata": {
        "id": "0BntjwXzPNKa"
      },
      "execution_count": null,
      "outputs": []
    },
    {
      "cell_type": "code",
      "source": [
        "songs.shape"
      ],
      "metadata": {
        "colab": {
          "base_uri": "https://localhost:8080/"
        },
        "id": "-kIkvDJrZXBO",
        "outputId": "0f43c0fd-4223-473f-df80-169b86d8ae05"
      },
      "execution_count": null,
      "outputs": [
        {
          "output_type": "execute_result",
          "data": {
            "text/plain": [
              "(1431, 10)"
            ]
          },
          "metadata": {},
          "execution_count": 3
        }
      ]
    },
    {
      "cell_type": "markdown",
      "source": [
        "### Columns to keep/drop"
      ],
      "metadata": {
        "id": "Q9UuxZ3JZiE0"
      }
    },
    {
      "cell_type": "markdown",
      "source": [
        "\n",
        "Certainly! Let's go through each of the features:\n",
        "\n",
        "__Danceability__:\n",
        "\n",
        "Recommendation: Keep.\n",
        "Reason: Represents how suitable a track is for dancing based on various musical elements including tempo, rhythm stability, beat strength, and overall regularity.\n",
        "Reference:\n",
        "Jehan, T. (2005). Creating music by listening. PhD thesis, Massachusetts Institute of Technology.\n",
        "\n",
        "__Energy__:\n",
        "\n",
        "Recommendation: Keep.\n",
        "Reason: Measures intensity and activity, typically energetic tracks feel fast and noisy.\n",
        "Reference:\n",
        "Tzanetakis, G., & Cook, P. (2002). Musical genre classification of audio signals. IEEE Transactions on speech and audio processing, 10(5), 293-302.\n",
        "\n",
        "Key:\n",
        "\n",
        "Recommendation: Depends.\n",
        "Reason: While the key is fundamental in music theory, its efficacy in clustering tasks can be dataset dependent. However, it might be important when distinguishing between certain types of genres or moods.\n",
        "Reference:\n",
        "Mardirossian, G., & Chew, E. (2015). Key-independent multi-level tonal analysis for interactive music systems. In Proceedings of the ACM SIGCHI Conference on Human Factors in Computing Systems.\n",
        "\n",
        "__Loudness__:\n",
        "\n",
        "Recommendation: Keep but be cautious of its correlation with 'Energy'.\n",
        "Reason: The perceived volume of the song can distinguish between certain moods or genres.\n",
        "Reference:\n",
        "Vickers, E. (2011). The loudness war: Background, speculation and recommendations. Audio Engineering Society Convention 131.\n",
        "\n",
        "__Mode__:\n",
        "\n",
        "Recommendation: Keep.\n",
        "Reason: Major or minor mode can influence the mood or feel of a song.\n",
        "Reference:\n",
        "Huron, D. (2008). Sweet Anticipation: Music and the Psychology of Expectation. MIT Press.\n",
        "\n",
        "__Speechiness__:\n",
        "\n",
        "Recommendation: Keep.\n",
        "Reason: Differentiates between talk shows, podcasts, and music.\n",
        "Reference:\n",
        "Mesaros, A., Heittola, T., Benetos, E., Foster, P., Lagrange, M., Virtanen, T., & Dixon, S. (2018). Detection and Classification of Acoustic Scenes and Events: Outcome of the DCASE 2016 Challenge. IEEE/ACM Transactions on Audio, Speech, and Language Processing.\n",
        "\n",
        "__Acousticness__:\n",
        "\n",
        "Recommendation: Keep.\n",
        "Reason: Helps distinguish between electronic and acoustic music.\n",
        "Reference:\n",
        "Sturm, B. L., Diver, C., & Martinez, A. R. (2013). An evaluation of the audio feature space for detecting fake musical instrument samples.\n",
        "In Proceedings of the Sound and Music Computing Conference.\n",
        "\n",
        "__Instrumentalness__:\n",
        "\n",
        "Recommendation: Keep.\n",
        "Reason: Determines the presence of vocals in a song, distinguishing between purely instrumental tracks and those with lyrics.\n",
        "Reference:\n",
        "Leglaive, S., Hennequin, R., & Badeau, R. (2015). Singing voice detection with deep recurrent neural networks. In IEEE International Conference on Acoustics, Speech and Signal Processing.\n",
        "\n",
        "__Liveness__:\n",
        "\n",
        "Recommendation: Keep.\n",
        "Reason: Identifies the presence of a live audience, differentiating studio recordings from live performances.\n",
        "Reference:\n",
        "Dittmar, C., & Müller, M. (2012). Automatic annotation of recorded music. In Multimodal Music Processing (Vol. 3).\n",
        "\n",
        "__Valence__:\n",
        "\n",
        "Recommendation: Keep.\n",
        "Reason: Measures the musical positiveness of a track, can differentiate between moods.\n",
        "Reference:\n",
        "Yang, Y. H., & Chen, H. H. (2012). Machine recognition of music emotion: A review. ACM Transactions on Intelligent Systems and Technology (TIST), 3(3).\n",
        "\n",
        "__Tempo__:\n",
        "\n",
        "Recommendation: Keep.\n",
        "Reason: The speed of a track is one of the fundamental aspects of music.\n",
        "Reference:\n",
        "Dixon, S. (2001). Automatic extraction of tempo and beat from expressive performances. Journal of New Music Research, 30(1), 39-58.\n",
        "\n",
        "Duration_ms:\n",
        "\n",
        "Recommendation: Consider.\n",
        "Reason: The length of a track might not inherently convey much about its musical content, but it could be relevant depending on the dataset.\n",
        "Reference:\n",
        "Not commonly discussed in literature for its inherent musical properties.\n",
        "\n",
        "Time_signature:\n",
        "\n",
        "Recommendation: Depends.\n",
        "Reason: Time signature can be critical for certain genres or analyzing complex rhythmic structures but might be less informative for general clustering tasks.\n",
        "Reference:\n",
        "Gouyon, F., Klapuri, A., Dixon, S., Alonso, M., Tzanetakis, G., Uhle, C., & Cano, P. (2006). An experimental comparison of audio tempo induction algorithms. IEEE Transactions on Audio, Speech, and Language Processing, 14(5), 1832-1844."
      ],
      "metadata": {
        "id": "9YQc8RdSZsvM"
      }
    },
    {
      "cell_type": "markdown",
      "source": [
        "__DROP__\n",
        "> time_signature, Duration_ms, Key\n",
        "\n",
        "__mode__ since it is binary and we need continuous variables"
      ],
      "metadata": {
        "id": "gAwwiCKvZ5M7"
      }
    },
    {
      "cell_type": "code",
      "source": [
        "#songs.drop(columns=['time_signature', 'duration_ms', 'key', 'mode'], inplace = True)"
      ],
      "metadata": {
        "id": "oxtCpTT9aNgT"
      },
      "execution_count": null,
      "outputs": []
    },
    {
      "cell_type": "markdown",
      "source": [
        "# Scaling"
      ],
      "metadata": {
        "id": "2znD-5JHay8S"
      }
    },
    {
      "cell_type": "markdown",
      "source": [
        "## MinMax Scaler"
      ],
      "metadata": {
        "id": "WoT7320Sa6tC"
      }
    },
    {
      "cell_type": "code",
      "source": [
        "scaler = MinMaxScaler()\n",
        "songs_scaled = scaler.fit_transform(songs)\n",
        "songs = pd.DataFrame(songs_scaled, columns=songs.columns, index=songs.index)"
      ],
      "metadata": {
        "id": "eFlBbFoWa3M4"
      },
      "execution_count": null,
      "outputs": []
    },
    {
      "cell_type": "code",
      "source": [
        "plt.figure(figsize=(15, 8))\n",
        "sns.boxplot(data=songs)\n",
        "plt.title('MinMax Scaler')\n",
        "plt.xticks(rotation=45)  # Rotate x labels for better visibility\n",
        "plt.show()"
      ],
      "metadata": {
        "id": "verReyrlbPrT",
        "colab": {
          "base_uri": "https://localhost:8080/",
          "height": 767
        },
        "outputId": "1bff2fa8-7240-4e55-fd84-d85b475fc07c"
      },
      "execution_count": null,
      "outputs": [
        {
          "output_type": "display_data",
          "data": {
            "text/plain": [
              "<Figure size 1500x800 with 1 Axes>"
            ],
            "image/png": "[encoded data removed]"
          },
          "metadata": {}
        }
      ]
    },
    {
      "cell_type": "markdown",
      "source": [
        "# Determine the number of Ks"
      ],
      "metadata": {
        "id": "Tj_3psstbkrW"
      }
    },
    {
      "cell_type": "markdown",
      "source": [
        "## Inertia"
      ],
      "metadata": {
        "id": "x3JeruYgbt5T"
      }
    },
    {
      "cell_type": "code",
      "source": [
        "max_k = 100\n",
        "inertia = []\n",
        "\n",
        "for k in range(1, max_k):\n",
        "    inertia.append(KMeans(n_clusters=k, n_init = 10, random_state=213).fit(songs).inertia_)\n",
        "\n",
        "\n",
        "\n",
        "#then plot the inertia\n",
        "fig, ax = plt.subplots(figsize=(16, 6))\n",
        "plt.title(f'Inertia evolution from 1 cluster to {max_k} cluster')\n",
        "sns.lineplot(x=range(1, max_k), y=inertia, marker='o')\n",
        "plt.xlabel('Number of clusters')\n",
        "plt.ylabel('Inertia')\n",
        "plt.show()"
      ],
      "metadata": {
        "id": "ONaEsJzXbm8G",
        "colab": {
          "base_uri": "https://localhost:8080/",
          "height": 562
        },
        "outputId": "4ec8c0d6-2aa6-4858-98a6-f54e2a2fde36"
      },
      "execution_count": null,
      "outputs": [
        {
          "output_type": "display_data",
          "data": {
            "text/plain": [
              "<Figure size 1600x600 with 1 Axes>"
            ],
            "image/png": "[encoded data removed]"
          },
          "metadata": {}
        }
      ]
    },
    {
      "cell_type": "markdown",
      "source": [
        "## Silhouette Score"
      ],
      "metadata": {
        "id": "mGUkJuYscvXJ"
      }
    },
    {
      "cell_type": "code",
      "source": [
        "min_k = 2\n",
        "max_k = 100\n",
        "sil_score = []\n",
        "\n",
        "\n",
        "for k in range(min_k, max_k):\n",
        "    labels = KMeans(n_clusters=k, n_init= 10, random_state=213).fit(songs).labels_\n",
        "    current_silhouette_score = silhouette_score(songs, labels)\n",
        "    sil_score.append(current_silhouette_score)\n",
        "\n",
        "#plotting the results\n",
        "plt.title(f'Silhouette score evolution from {min_k} clusters to {max_k} clusters')\n",
        "sns.lineplot(x=range(min_k, max_k), y=sil_score, marker='o')\n",
        "plt.show()"
      ],
      "metadata": {
        "id": "o1a7QYZOcuWS",
        "colab": {
          "base_uri": "https://localhost:8080/",
          "height": 504
        },
        "outputId": "10591f69-9ddd-48be-8523-15917157d9fa"
      },
      "execution_count": null,
      "outputs": [
        {
          "output_type": "display_data",
          "data": {
            "text/plain": [
              "<Figure size 800x550 with 1 Axes>"
            ],
            "image/png": "[encoded data removed]"
          },
          "metadata": {}
        }
      ]
    },
    {
      "cell_type": "code",
      "source": [
        "songs.head()"
      ],
      "metadata": {
        "id": "7AKQ3_JYd6dU",
        "colab": {
          "base_uri": "https://localhost:8080/",
          "height": 206
        },
        "outputId": "995e2956-d034-4b1b-f92c-e30597da0f60"
      },
      "execution_count": null,
      "outputs": [
        {
          "output_type": "execute_result",
          "data": {
            "text/plain": [
              "   danceability    energy  loudness  speechiness  acousticness  \\\n",
              "0      0.624060  0.469869  0.708800     0.196816      0.884538   \n",
              "1      0.580938  0.247977  0.698907     0.030391      0.453814   \n",
              "2      0.254755  0.227896  0.689059     0.014291      0.947791   \n",
              "3      0.531181  0.683728  0.856565     0.049928      0.811245   \n",
              "4      0.437196  0.167654  0.676903     0.091715      0.921687   \n",
              "\n",
              "   instrumentalness  liveness   valence     tempo   cluster  \n",
              "0          0.000006  0.127865  0.965817  0.156106  0.574468  \n",
              "1          0.000009  0.089495  0.591879  0.494567  0.978723  \n",
              "2          0.000081  0.618376  0.211726  0.412383  0.127660  \n",
              "3          0.000000  0.146531  0.802155  0.247063  0.574468  \n",
              "4          0.000000  0.157938  0.398177  0.168742  0.340426  "
            ],
            "text/html": [
              "\n",
              "  <div id=\"df-13f0852d-d92b-4957-bf8c-1d4d598dc64b\" class=\"colab-df-container\">\n",
              "    <div>\n",
              "<style scoped>\n",
              "    .dataframe tbody tr th:only-of-type {\n",
              "        vertical-align: middle;\n",
              "    }\n",
              "\n",
              "    .dataframe tbody tr th {\n",
              "        vertical-align: top;\n",
              "    }\n",
              "\n",
              "    .dataframe thead th {\n",
              "        text-align: right;\n",
              "    }\n",
              "</style>\n",
              "<table border=\"1\" class=\"dataframe\">\n",
              "  <thead>\n",
              "    <tr style=\"text-align: right;\">\n",
              "      <th></th>\n",
              "      <th>danceability</th>\n",
              "      <th>energy</th>\n",
              "      <th>loudness</th>\n",
              "      <th>speechiness</th>\n",
              "      <th>acousticness</th>\n",
              "      <th>instrumentalness</th>\n",
              "      <th>liveness</th>\n",
              "      <th>valence</th>\n",
              "      <th>tempo</th>\n",
              "      <th>cluster</th>\n",
              "    </tr>\n",
              "  </thead>\n",
              "  <tbody>\n",
              "    <tr>\n",
              "      <th>0</th>\n",
              "      <td>0.624060</td>\n",
              "      <td>0.469869</td>\n",
              "      <td>0.708800</td>\n",
              "      <td>0.196816</td>\n",
              "      <td>0.884538</td>\n",
              "      <td>0.000006</td>\n",
              "      <td>0.127865</td>\n",
              "      <td>0.965817</td>\n",
              "      <td>0.156106</td>\n",
              "      <td>0.574468</td>\n",
              "    </tr>\n",
              "    <tr>\n",
              "      <th>1</th>\n",
              "      <td>0.580938</td>\n",
              "      <td>0.247977</td>\n",
              "      <td>0.698907</td>\n",
              "      <td>0.030391</td>\n",
              "      <td>0.453814</td>\n",
              "      <td>0.000009</td>\n",
              "      <td>0.089495</td>\n",
              "      <td>0.591879</td>\n",
              "      <td>0.494567</td>\n",
              "      <td>0.978723</td>\n",
              "    </tr>\n",
              "    <tr>\n",
              "      <th>2</th>\n",
              "      <td>0.254755</td>\n",
              "      <td>0.227896</td>\n",
              "      <td>0.689059</td>\n",
              "      <td>0.014291</td>\n",
              "      <td>0.947791</td>\n",
              "      <td>0.000081</td>\n",
              "      <td>0.618376</td>\n",
              "      <td>0.211726</td>\n",
              "      <td>0.412383</td>\n",
              "      <td>0.127660</td>\n",
              "    </tr>\n",
              "    <tr>\n",
              "      <th>3</th>\n",
              "      <td>0.531181</td>\n",
              "      <td>0.683728</td>\n",
              "      <td>0.856565</td>\n",
              "      <td>0.049928</td>\n",
              "      <td>0.811245</td>\n",
              "      <td>0.000000</td>\n",
              "      <td>0.146531</td>\n",
              "      <td>0.802155</td>\n",
              "      <td>0.247063</td>\n",
              "      <td>0.574468</td>\n",
              "    </tr>\n",
              "    <tr>\n",
              "      <th>4</th>\n",
              "      <td>0.437196</td>\n",
              "      <td>0.167654</td>\n",
              "      <td>0.676903</td>\n",
              "      <td>0.091715</td>\n",
              "      <td>0.921687</td>\n",
              "      <td>0.000000</td>\n",
              "      <td>0.157938</td>\n",
              "      <td>0.398177</td>\n",
              "      <td>0.168742</td>\n",
              "      <td>0.340426</td>\n",
              "    </tr>\n",
              "  </tbody>\n",
              "</table>\n",
              "</div>\n",
              "    <div class=\"colab-df-buttons\">\n",
              "\n",
              "  <div class=\"colab-df-container\">\n",
              "    <button class=\"colab-df-convert\" onclick=\"convertToInteractive('df-13f0852d-d92b-4957-bf8c-1d4d598dc64b')\"\n",
              "            title=\"Convert this dataframe to an interactive table.\"\n",
              "            style=\"display:none;\">\n",
              "\n",
              "  <svg xmlns=\"http://www.w3.org/2000/svg\" height=\"24px\" viewBox=\"0 -960 960 960\">\n",
              "    <path d=\"M120-120v-720h720v720H120Zm60-500h600v-160H180v160Zm220 220h160v-160H400v160Zm0 220h160v-160H400v160ZM180-400h160v-160H180v160Zm440 0h160v-160H620v160ZM180-180h160v-160H180v160Zm440 0h160v-160H620v160Z\"/>\n",
              "  </svg>\n",
              "    </button>\n",
              "\n",
              "  <style>\n",
              "    .colab-df-container {\n",
              "      display:flex;\n",
              "      gap: 12px;\n",
              "    }\n",
              "\n",
              "    .colab-df-convert {\n",
              "      background-color: #E8F0FE;\n",
              "      border: none;\n",
              "      border-radius: 50%;\n",
              "      cursor: pointer;\n",
              "      display: none;\n",
              "      fill: #1967D2;\n",
              "      height: 32px;\n",
              "      padding: 0 0 0 0;\n",
              "      width: 32px;\n",
              "    }\n",
              "\n",
              "    .colab-df-convert:hover {\n",
              "      background-color: #E2EBFA;\n",
              "      box-shadow: 0px 1px 2px rgba(60, 64, 67, 0.3), 0px 1px 3px 1px rgba(60, 64, 67, 0.15);\n",
              "      fill: #174EA6;\n",
              "    }\n",
              "\n",
              "    .colab-df-buttons div {\n",
              "      margin-bottom: 4px;\n",
              "    }\n",
              "\n",
              "    [theme=dark] .colab-df-convert {\n",
              "      background-color: #3B4455;\n",
              "      fill: #D2E3FC;\n",
              "    }\n",
              "\n",
              "    [theme=dark] .colab-df-convert:hover {\n",
              "      background-color: #434B5C;\n",
              "      box-shadow: 0px 1px 3px 1px rgba(0, 0, 0, 0.15);\n",
              "      filter: drop-shadow(0px 1px 2px rgba(0, 0, 0, 0.3));\n",
              "      fill: #FFFFFF;\n",
              "    }\n",
              "  </style>\n",
              "\n",
              "    <script>\n",
              "      const buttonEl =\n",
              "        document.querySelector('#df-13f0852d-d92b-4957-bf8c-1d4d598dc64b button.colab-df-convert');\n",
              "      buttonEl.style.display =\n",
              "        google.colab.kernel.accessAllowed ? 'block' : 'none';\n",
              "\n",
              "      async function convertToInteractive(key) {\n",
              "        const element = document.querySelector('#df-13f0852d-d92b-4957-bf8c-1d4d598dc64b');\n",
              "        const dataTable =\n",
              "          await google.colab.kernel.invokeFunction('convertToInteractive',\n",
              "                                                    [key], {});\n",
              "        if (!dataTable) return;\n",
              "\n",
              "        const docLinkHtml = 'Like what you see? Visit the ' +\n",
              "          '<a target=\"_blank\" href=https://colab.research.google.com/notebooks/data_table.ipynb>data table notebook</a>'\n",
              "          + ' to learn more about interactive tables.';\n",
              "        element.innerHTML = '';\n",
              "        dataTable['output_type'] = 'display_data';\n",
              "        await google.colab.output.renderOutput(dataTable, element);\n",
              "        const docLink = document.createElement('div');\n",
              "        docLink.innerHTML = docLinkHtml;\n",
              "        element.appendChild(docLink);\n",
              "      }\n",
              "    </script>\n",
              "  </div>\n",
              "\n",
              "\n",
              "<div id=\"df-04184b0e-4579-4dc7-933e-653a88259776\">\n",
              "  <button class=\"colab-df-quickchart\" onclick=\"quickchart('df-04184b0e-4579-4dc7-933e-653a88259776')\"\n",
              "            title=\"Suggest charts\"\n",
              "            style=\"display:none;\">\n",
              "\n",
              "<svg xmlns=\"http://www.w3.org/2000/svg\" height=\"24px\"viewBox=\"0 0 24 24\"\n",
              "     width=\"24px\">\n",
              "    <g>\n",
              "        <path d=\"M19 3H5c-1.1 0-2 .9-2 2v14c0 1.1.9 2 2 2h14c1.1 0 2-.9 2-2V5c0-1.1-.9-2-2-2zM9 17H7v-7h2v7zm4 0h-2V7h2v10zm4 0h-2v-4h2v4z\"/>\n",
              "    </g>\n",
              "</svg>\n",
              "  </button>\n",
              "\n",
              "<style>\n",
              "  .colab-df-quickchart {\n",
              "      --bg-color: #E8F0FE;\n",
              "      --fill-color: #1967D2;\n",
              "      --hover-bg-color: #E2EBFA;\n",
              "      --hover-fill-color: #174EA6;\n",
              "      --disabled-fill-color: #AAA;\n",
              "      --disabled-bg-color: #DDD;\n",
              "  }\n",
              "\n",
              "  [theme=dark] .colab-df-quickchart {\n",
              "      --bg-color: #3B4455;\n",
              "      --fill-color: #D2E3FC;\n",
              "      --hover-bg-color: #434B5C;\n",
              "      --hover-fill-color: #FFFFFF;\n",
              "      --disabled-bg-color: #3B4455;\n",
              "      --disabled-fill-color: #666;\n",
              "  }\n",
              "\n",
              "  .colab-df-quickchart {\n",
              "    background-color: var(--bg-color);\n",
              "    border: none;\n",
              "    border-radius: 50%;\n",
              "    cursor: pointer;\n",
              "    display: none;\n",
              "    fill: var(--fill-color);\n",
              "    height: 32px;\n",
              "    padding: 0;\n",
              "    width: 32px;\n",
              "  }\n",
              "\n",
              "  .colab-df-quickchart:hover {\n",
              "    background-color: var(--hover-bg-color);\n",
              "    box-shadow: 0 1px 2px rgba(60, 64, 67, 0.3), 0 1px 3px 1px rgba(60, 64, 67, 0.15);\n",
              "    fill: var(--button-hover-fill-color);\n",
              "  }\n",
              "\n",
              "  .colab-df-quickchart-complete:disabled,\n",
              "  .colab-df-quickchart-complete:disabled:hover {\n",
              "    background-color: var(--disabled-bg-color);\n",
              "    fill: var(--disabled-fill-color);\n",
              "    box-shadow: none;\n",
              "  }\n",
              "\n",
              "  .colab-df-spinner {\n",
              "    border: 2px solid var(--fill-color);\n",
              "    border-color: transparent;\n",
              "    border-bottom-color: var(--fill-color);\n",
              "    animation:\n",
              "      spin 1s steps(1) infinite;\n",
              "  }\n",
              "\n",
              "  @keyframes spin {\n",
              "    0% {\n",
              "      border-color: transparent;\n",
              "      border-bottom-color: var(--fill-color);\n",
              "      border-left-color: var(--fill-color);\n",
              "    }\n",
              "    20% {\n",
              "      border-color: transparent;\n",
              "      border-left-color: var(--fill-color);\n",
              "      border-top-color: var(--fill-color);\n",
              "    }\n",
              "    30% {\n",
              "      border-color: transparent;\n",
              "      border-left-color: var(--fill-color);\n",
              "      border-top-color: var(--fill-color);\n",
              "      border-right-color: var(--fill-color);\n",
              "    }\n",
              "    40% {\n",
              "      border-color: transparent;\n",
              "      border-right-color: var(--fill-color);\n",
              "      border-top-color: var(--fill-color);\n",
              "    }\n",
              "    60% {\n",
              "      border-color: transparent;\n",
              "      border-right-color: var(--fill-color);\n",
              "    }\n",
              "    80% {\n",
              "      border-color: transparent;\n",
              "      border-right-color: var(--fill-color);\n",
              "      border-bottom-color: var(--fill-color);\n",
              "    }\n",
              "    90% {\n",
              "      border-color: transparent;\n",
              "      border-bottom-color: var(--fill-color);\n",
              "    }\n",
              "  }\n",
              "</style>\n",
              "\n",
              "  <script>\n",
              "    async function quickchart(key) {\n",
              "      const quickchartButtonEl =\n",
              "        document.querySelector('#' + key + ' button');\n",
              "      quickchartButtonEl.disabled = true;  // To prevent multiple clicks.\n",
              "      quickchartButtonEl.classList.add('colab-df-spinner');\n",
              "      try {\n",
              "        const charts = await google.colab.kernel.invokeFunction(\n",
              "            'suggestCharts', [key], {});\n",
              "      } catch (error) {\n",
              "        console.error('Error during call to suggestCharts:', error);\n",
              "      }\n",
              "      quickchartButtonEl.classList.remove('colab-df-spinner');\n",
              "      quickchartButtonEl.classList.add('colab-df-quickchart-complete');\n",
              "    }\n",
              "    (() => {\n",
              "      let quickchartButtonEl =\n",
              "        document.querySelector('#df-04184b0e-4579-4dc7-933e-653a88259776 button');\n",
              "      quickchartButtonEl.style.display =\n",
              "        google.colab.kernel.accessAllowed ? 'block' : 'none';\n",
              "    })();\n",
              "  </script>\n",
              "</div>\n",
              "    </div>\n",
              "  </div>\n"
            ]
          },
          "metadata": {},
          "execution_count": 9
        }
      ]
    },
    {
      "cell_type": "code",
      "source": [
        "min_k = 18\n",
        "max_k = 32\n",
        "sil_score = []\n",
        "\n",
        "for k in range(min_k, max_k):\n",
        "    labels = KMeans(n_clusters=k, n_init= 10, random_state=213).fit(songs).labels_\n",
        "    current_silhouette_score = silhouette_score(songs, labels)\n",
        "    sil_score.append(current_silhouette_score)\n",
        "\n",
        "#plotting the results\n",
        "plt.title(f'Silhouette score evolution from {min_k} clusters to {max_k - 1} clusters')\n",
        "sns.lineplot(x=range(min_k, max_k), y=sil_score, marker='o')\n",
        "plt.show()"
      ],
      "metadata": {
        "id": "N_n4ZURIeFhj",
        "colab": {
          "base_uri": "https://localhost:8080/",
          "height": 504
        },
        "outputId": "f7498542-0a52-461d-ac68-3fe3c3565755"
      },
      "execution_count": null,
      "outputs": [
        {
          "output_type": "display_data",
          "data": {
            "text/plain": [
              "<Figure size 800x550 with 1 Axes>"
            ],
            "image/png": "[encoded data removed]"
          },
          "metadata": {}
        }
      ]
    },
    {
      "cell_type": "markdown",
      "source": [
        "It seems that 20 clusters, is ideal since we have to have 20 to 100 clusters to have 50-250 songs per playlists. We shouldnt use more. But we should still explore one more method."
      ],
      "metadata": {
        "id": "BL7de80iylJp"
      }
    },
    {
      "cell_type": "code",
      "source": [
        "from sklearn.cluster import KMeans\n",
        "from yellowbrick.cluster import KElbowVisualizer\n",
        "min_k = 2\n",
        "max_k = 100\n",
        "\n",
        "# Create a new KMeans instance\n",
        "model = KMeans(n_init=10, random_state=213)\n",
        "\n",
        "# Create a new visualizer instance\n",
        "visualizer = KElbowVisualizer(model, k=(min_k,max_k), timings=False)\n",
        "\n",
        "# Fit the data to the visualizer\n",
        "visualizer.fit(songs)\n",
        "\n",
        "# Display the figure\n",
        "visualizer.show()"
      ],
      "metadata": {
        "id": "1obt457Wyn1M",
        "colab": {
          "base_uri": "https://localhost:8080/",
          "height": 541
        },
        "outputId": "2bdd0f6e-7fff-4bae-b718-614834d95359"
      },
      "execution_count": null,
      "outputs": [
        {
          "output_type": "display_data",
          "data": {
            "text/plain": [
              "<Figure size 800x550 with 1 Axes>"
            ],
            "image/png": "[encoded data removed]"
          },
          "metadata": {}
        },
        {
          "output_type": "execute_result",
          "data": {
            "text/plain": [
              "<Axes: title={'center': 'Distortion Score Elbow for KMeans Clustering'}, xlabel='k', ylabel='distortion score'>"
            ]
          },
          "metadata": {},
          "execution_count": 11
        }
      ]
    },
    {
      "cell_type": "markdown",
      "source": [
        "Let us put our parameters to a minimum of 20 and a maximum of 100 playlists."
      ],
      "metadata": {
        "id": "V95AvaaWzNE9"
      }
    },
    {
      "cell_type": "code",
      "source": [
        "from sklearn.cluster import KMeans\n",
        "from yellowbrick.cluster import KElbowVisualizer\n",
        "min_k = 20\n",
        "max_k = 100\n",
        "\n",
        "# Create a new KMeans instance\n",
        "model = KMeans(n_init=10, random_state=213)\n",
        "\n",
        "# Create a new visualizer instance\n",
        "visualizer = KElbowVisualizer(model, k=(min_k,max_k), timings=False)\n",
        "\n",
        "# Fit the data to the visualizer\n",
        "visualizer.fit(songs)\n",
        "\n",
        "# Display the figure\n",
        "visualizer.show()"
      ],
      "metadata": {
        "id": "sLj93xqazK04",
        "colab": {
          "base_uri": "https://localhost:8080/",
          "height": 541
        },
        "outputId": "d2f790e7-951c-4e79-d5f2-b1709f079821"
      },
      "execution_count": null,
      "outputs": [
        {
          "output_type": "display_data",
          "data": {
            "text/plain": [
              "<Figure size 800x550 with 1 Axes>"
            ],
            "image/png": "[encoded data removed]"
          },
          "metadata": {}
        },
        {
          "output_type": "execute_result",
          "data": {
            "text/plain": [
              "<Axes: title={'center': 'Distortion Score Elbow for KMeans Clustering'}, xlabel='k', ylabel='distortion score'>"
            ]
          },
          "metadata": {},
          "execution_count": 12
        }
      ]
    },
    {
      "cell_type": "markdown",
      "source": [
        "#KMeans\n"
      ],
      "metadata": {
        "id": "ZZof3JEdHeDU"
      }
    },
    {
      "cell_type": "markdown",
      "metadata": {
        "id": "483f3692-8d75-47c6-b56e-33902abb5f0b"
      },
      "source": [
        "Let's say you would prefer the MinMax Scaler since it makes readability and explanations easier, but you do not want to drop all outliers.\n",
        "\n",
        "Furthermore, we decided to look at the differences between 13, 10, and 47 clusters as you see in the section above."
      ]
    },
    {
      "cell_type": "code",
      "source": [
        "kmeans = KMeans(n_init=10, n_clusters=48, random_state=213)  # random_state for reproducibility\n",
        "songs['cluster'] = kmeans.fit_predict(songs)"
      ],
      "metadata": {
        "id": "Py-TVpxhHp2R"
      },
      "execution_count": null,
      "outputs": []
    },
    {
      "cell_type": "code",
      "source": [
        "# Assume kmeans is your clustering model and X is your data\n",
        "score = silhouette_score(songs, kmeans.labels_, random_state=213)\n",
        "print(\"Silhouette Score: \", score)"
      ],
      "metadata": {
        "id": "Xf0gj9EqhFJ7",
        "colab": {
          "base_uri": "https://localhost:8080/"
        },
        "outputId": "ec2459d8-325d-42b4-eece-2bae40d5c44d"
      },
      "execution_count": null,
      "outputs": [
        {
          "output_type": "stream",
          "name": "stdout",
          "text": [
            "Silhouette Score:  0.7085629308829624\n"
          ]
        }
      ]
    },
    {
      "cell_type": "code",
      "source": [
        "# Assume kmeans is your clustering model and X is your data\n",
        "db_score = davies_bouldin_score(songs, kmeans.labels_)\n",
        "print(\"Davies-Bouldin Index: \", db_score)"
      ],
      "metadata": {
        "id": "sjbUsPiVhIg5",
        "colab": {
          "base_uri": "https://localhost:8080/"
        },
        "outputId": "4de52096-dddb-401b-aa02-df433578b4c9"
      },
      "execution_count": null,
      "outputs": [
        {
          "output_type": "stream",
          "name": "stdout",
          "text": [
            "Davies-Bouldin Index:  0.4429974604136508\n"
          ]
        }
      ]
    },
    {
      "cell_type": "code",
      "source": [
        "songs_new = songs.drop(columns='cluster')\n",
        "kmeans = KMeans(n_init=10, n_clusters=20, random_state=213)  # random_state for reproducibility\n",
        "songs_new['cluster'] = kmeans.fit_predict(songs_new)"
      ],
      "metadata": {
        "id": "EZjp0wYAhMDW"
      },
      "execution_count": null,
      "outputs": []
    },
    {
      "cell_type": "code",
      "source": [
        "score = silhouette_score(songs_new, kmeans.labels_, random_state=213)\n",
        "print(\"Silhouette Score: \", score)"
      ],
      "metadata": {
        "id": "NAWeluSRhOdv",
        "colab": {
          "base_uri": "https://localhost:8080/"
        },
        "outputId": "fa655954-cccd-467f-ca2f-552405af54aa"
      },
      "execution_count": null,
      "outputs": [
        {
          "output_type": "stream",
          "name": "stdout",
          "text": [
            "Silhouette Score:  0.6809472147167206\n"
          ]
        }
      ]
    },
    {
      "cell_type": "code",
      "source": [
        "db_score = davies_bouldin_score(songs_new, kmeans.labels_)\n",
        "print(\"Davies-Bouldin Index: \", db_score)"
      ],
      "metadata": {
        "id": "apUmg2B3hRG2",
        "colab": {
          "base_uri": "https://localhost:8080/"
        },
        "outputId": "b186305d-286c-4bae-8c3a-5624887facb5"
      },
      "execution_count": null,
      "outputs": [
        {
          "output_type": "stream",
          "name": "stdout",
          "text": [
            "Davies-Bouldin Index:  0.5172266025234051\n"
          ]
        }
      ]
    },
    {
      "cell_type": "code",
      "source": [
        "songs_13 = songs.drop(columns='cluster')\n",
        "kmeans = KMeans(n_init=10, n_clusters=13, random_state=213)  # random_state for reproducibility\n",
        "songs_13['cluster'] = kmeans.fit_predict(songs_13)"
      ],
      "metadata": {
        "id": "770bpC7PhXdn"
      },
      "execution_count": null,
      "outputs": []
    },
    {
      "cell_type": "code",
      "source": [
        "score = silhouette_score(songs_13, kmeans.labels_, random_state=213)\n",
        "print(\"Silhouette Score: \", score)"
      ],
      "metadata": {
        "id": "Z3Zzi7jMhZ1B",
        "colab": {
          "base_uri": "https://localhost:8080/"
        },
        "outputId": "6a854755-7879-4f0b-eb97-edc0e42f32a6"
      },
      "execution_count": null,
      "outputs": [
        {
          "output_type": "stream",
          "name": "stdout",
          "text": [
            "Silhouette Score:  0.6502161909536689\n"
          ]
        }
      ]
    },
    {
      "cell_type": "code",
      "source": [
        "db_score = davies_bouldin_score(songs_13, kmeans.labels_)\n",
        "print(\"Davies-Bouldin Index: \", db_score)"
      ],
      "metadata": {
        "id": "KiJEHiwdhjqc",
        "colab": {
          "base_uri": "https://localhost:8080/"
        },
        "outputId": "059e3d0c-232c-4546-8464-28ad5aa42f56"
      },
      "execution_count": null,
      "outputs": [
        {
          "output_type": "stream",
          "name": "stdout",
          "text": [
            "Davies-Bouldin Index:  0.5637608940458201\n"
          ]
        }
      ]
    },
    {
      "cell_type": "code",
      "source": [
        "songs = songs.drop('cluster', axis=1)\n",
        "kmeans = KMeans(n_init=10, n_clusters=48, random_state=213)  # random_state for reproducibility\n",
        "songs['cluster'] = kmeans.fit_predict(songs)"
      ],
      "metadata": {
        "id": "B52lgHachmgA"
      },
      "execution_count": null,
      "outputs": []
    },
    {
      "cell_type": "markdown",
      "source": [
        "Silhouette Score:\n",
        "Range: The silhouette score ranges from -1 to 1.\n",
        "\n",
        "Interpretation:\n",
        "\n",
        "- Near +1: The clusters are well apart from each other and clearly distinguished.\n",
        "- 0: The clusters are overlapping and there is considerable intermingling.\n",
        "- Near -1: Points have been assigned to the wrong clusters.\n",
        "\n",
        "General Guideline:\n",
        "\n",
        "over 0.7: A strong structure has been found.\n",
        "\n",
        "0.5 - 0.7: A reasonable structure has been found.\n",
        "\n",
        "0.25 - 0.5: The structure is weak and could be artificial. Try additional cluster evaluation metrics and techniques.\n",
        "\n",
        "< 0.25: No substantial structure has been found."
      ],
      "metadata": {
        "id": "uvTKByDph0Au"
      }
    },
    {
      "cell_type": "code",
      "source": [
        "# Assume kmeans is your clustering model and X is your data\n",
        "score = silhouette_score(songs, kmeans.labels_, random_state=213)\n",
        "print(\"Silhouette Score: \", score)"
      ],
      "metadata": {
        "id": "J3gBl43Gh5js",
        "colab": {
          "base_uri": "https://localhost:8080/"
        },
        "outputId": "c2fac7d1-0156-4733-b40b-8822738088b2"
      },
      "execution_count": null,
      "outputs": [
        {
          "output_type": "stream",
          "name": "stdout",
          "text": [
            "Silhouette Score:  0.7126809266350628\n"
          ]
        }
      ]
    },
    {
      "cell_type": "code",
      "source": [
        "score = silhouette_score(songs_new, kmeans.labels_, random_state=213)\n",
        "print(\"Silhouette Score: \", score)"
      ],
      "metadata": {
        "id": "1zcEjYgxh-En",
        "colab": {
          "base_uri": "https://localhost:8080/"
        },
        "outputId": "5cfd7ab3-7930-48af-e18a-3068160eb48b"
      },
      "execution_count": null,
      "outputs": [
        {
          "output_type": "stream",
          "name": "stdout",
          "text": [
            "Silhouette Score:  -0.1764549273987821\n"
          ]
        }
      ]
    },
    {
      "cell_type": "code",
      "source": [
        "score = silhouette_score(songs_13, kmeans.labels_, random_state=213)\n",
        "print(\"Silhouette Score: \", score)"
      ],
      "metadata": {
        "id": "4Ch1NKjjiAh6",
        "colab": {
          "base_uri": "https://localhost:8080/"
        },
        "outputId": "6b3221d3-7920-42b1-dec0-1f8ca2f779aa"
      },
      "execution_count": null,
      "outputs": [
        {
          "output_type": "stream",
          "name": "stdout",
          "text": [
            "Silhouette Score:  -0.24231146647362198\n"
          ]
        }
      ]
    },
    {
      "cell_type": "markdown",
      "source": [
        "Range: The DB index values start from 0 and can be infinite.\n",
        "\n",
        "Interpretation:\n",
        "\n",
        "- Lower values: Indicate better clustering. Ideally, you want the DB index to be as close to 0 as possible.\n",
        "- Higher values: Indicate that the clusters are less dense and/or more separated.\n",
        "\n",
        "General Guideline:\n",
        "\n",
        "As with any heuristic, there's no strict threshold for a \"good\" DB index value because it largely depends on the dataset. Still, lower is better. If you try different clustering configurations or algorithms, you'd prefer the one with a lower DB index over others."
      ],
      "metadata": {
        "id": "AAswx5boiLZB"
      }
    },
    {
      "cell_type": "code",
      "source": [
        "# Assume kmeans is your clustering model and X is your data\n",
        "db_score = davies_bouldin_score(songs, kmeans.labels_)\n",
        "print(\"Davies-Bouldin Index: \", db_score)"
      ],
      "metadata": {
        "id": "BhgR_j75iNTn",
        "colab": {
          "base_uri": "https://localhost:8080/"
        },
        "outputId": "9e23873d-8980-472c-b76e-b5eccff5055d"
      },
      "execution_count": null,
      "outputs": [
        {
          "output_type": "stream",
          "name": "stdout",
          "text": [
            "Davies-Bouldin Index:  0.4426226408286095\n"
          ]
        }
      ]
    },
    {
      "cell_type": "code",
      "source": [
        "db_score = davies_bouldin_score(songs_new, kmeans.labels_)\n",
        "print(\"Davies-Bouldin Index: \", db_score)"
      ],
      "metadata": {
        "id": "vdMlwTw6iUJZ",
        "colab": {
          "base_uri": "https://localhost:8080/"
        },
        "outputId": "2ed96de6-4806-40b2-eebe-c8ff7b3c4c8c"
      },
      "execution_count": null,
      "outputs": [
        {
          "output_type": "stream",
          "name": "stdout",
          "text": [
            "Davies-Bouldin Index:  8.698910753614975\n"
          ]
        }
      ]
    },
    {
      "cell_type": "code",
      "source": [
        "db_score = davies_bouldin_score(songs_13, kmeans.labels_)\n",
        "print(\"Davies-Bouldin Index: \", db_score)"
      ],
      "metadata": {
        "id": "aXwZSss3iWuE",
        "colab": {
          "base_uri": "https://localhost:8080/"
        },
        "outputId": "c30356c3-2762-4b78-b858-6dc1e83823ed"
      },
      "execution_count": null,
      "outputs": [
        {
          "output_type": "stream",
          "name": "stdout",
          "text": [
            "Davies-Bouldin Index:  5.358666693145314\n"
          ]
        }
      ]
    },
    {
      "cell_type": "markdown",
      "source": [
        "The best model so far is the Normal K-Means using the MinMax Scaler"
      ],
      "metadata": {
        "id": "EEY1Zq6LiabC"
      }
    },
    {
      "cell_type": "markdown",
      "source": [
        "# Improving the Model"
      ],
      "metadata": {
        "id": "PPLRLXsjiffD"
      }
    },
    {
      "cell_type": "markdown",
      "source": [
        "## Principal Component Analysis"
      ],
      "metadata": {
        "id": "UWOiK5kuiikx"
      }
    },
    {
      "cell_type": "code",
      "source": [
        "# Initialize PCA\n",
        "pca = PCA()\n",
        "songs_no_cluster = songs.drop('cluster', axis=1, errors='ignore') # errors='ignore' ensures no error if the column doesn't exist\n",
        "# Fit and transform the data\n",
        "songs_pca = pca.fit_transform(songs_no_cluster)"
      ],
      "metadata": {
        "id": "VlgViZtyipZd"
      },
      "execution_count": null,
      "outputs": []
    },
    {
      "cell_type": "code",
      "source": [
        "plt.figure(figsize=(10,6))\n",
        "plt.plot(range(1, len(pca.explained_variance_ratio_)+1), pca.explained_variance_ratio_.cumsum(), marker='o', linestyle='--')\n",
        "plt.title('Explained Variance by Components')\n",
        "plt.xlabel('Number of Components')\n",
        "plt.ylabel('Cumulative Explained Variance')\n",
        "plt.show()"
      ],
      "metadata": {
        "id": "SlfDFsOwiskY",
        "colab": {
          "base_uri": "https://localhost:8080/",
          "height": 562
        },
        "outputId": "e5c1b711-6894-4e0a-dced-f54b7a06e473"
      },
      "execution_count": null,
      "outputs": [
        {
          "output_type": "display_data",
          "data": {
            "text/plain": [
              "<Figure size 1000x600 with 1 Axes>"
            ],
            "image/png": "[encoded data removed]"
          },
          "metadata": {}
        }
      ]
    },
    {
      "cell_type": "code",
      "source": [
        "pd.DataFrame(pca.components_, columns=songs_no_cluster.columns, index=[f'PC{i+1}' for i in range(len(pca.components_))])"
      ],
      "metadata": {
        "id": "7GIDBj0xiy0V",
        "colab": {
          "base_uri": "https://localhost:8080/",
          "height": 331
        },
        "outputId": "df1d8ebc-e1d3-4bef-fdfd-44ad22ee82a2"
      },
      "execution_count": null,
      "outputs": [
        {
          "output_type": "execute_result",
          "data": {
            "text/plain": [
              "     danceability    energy  loudness  speechiness  acousticness  \\\n",
              "PC1     -0.321901 -0.422998 -0.224928    -0.108958      0.563753   \n",
              "PC2     -0.194220  0.301716  0.028734     0.068630     -0.551681   \n",
              "PC3      0.336641  0.005922 -0.045809    -0.016330      0.143844   \n",
              "PC4     -0.224011  0.085215  0.031990    -0.113612      0.233917   \n",
              "PC5     -0.371203  0.426566  0.112701    -0.284812      0.195852   \n",
              "PC6      0.320999  0.023960  0.060493     0.733072      0.248329   \n",
              "PC7     -0.220112  0.556622  0.260546     0.317748      0.378694   \n",
              "PC8     -0.605486 -0.210068 -0.341097     0.497269     -0.228171   \n",
              "PC9      0.198132  0.431572 -0.863057    -0.059079      0.083226   \n",
              "\n",
              "     instrumentalness  liveness   valence     tempo  \n",
              "PC1          0.431790 -0.014081 -0.376583 -0.093353  \n",
              "PC2          0.638781  0.061764 -0.347629  0.169281  \n",
              "PC3          0.621743 -0.093854  0.682285 -0.051923  \n",
              "PC4         -0.045917  0.050401  0.178319  0.915130  \n",
              "PC5          0.005105  0.648713  0.201073 -0.294599  \n",
              "PC6          0.054184  0.502997 -0.161286  0.108208  \n",
              "PC7          0.013062 -0.556444 -0.049402 -0.131242  \n",
              "PC8         -0.079174 -0.020815  0.401051 -0.077645  \n",
              "PC9         -0.086269 -0.027214 -0.101500  0.026823  "
            ],
            "text/html": [
              "\n",
              "  <div id=\"df-c544aa20-d267-4ca0-ad70-9acd63acd45e\" class=\"colab-df-container\">\n",
              "    <div>\n",
              "<style scoped>\n",
              "    .dataframe tbody tr th:only-of-type {\n",
              "        vertical-align: middle;\n",
              "    }\n",
              "\n",
              "    .dataframe tbody tr th {\n",
              "        vertical-align: top;\n",
              "    }\n",
              "\n",
              "    .dataframe thead th {\n",
              "        text-align: right;\n",
              "    }\n",
              "</style>\n",
              "<table border=\"1\" class=\"dataframe\">\n",
              "  <thead>\n",
              "    <tr style=\"text-align: right;\">\n",
              "      <th></th>\n",
              "      <th>danceability</th>\n",
              "      <th>energy</th>\n",
              "      <th>loudness</th>\n",
              "      <th>speechiness</th>\n",
              "      <th>acousticness</th>\n",
              "      <th>instrumentalness</th>\n",
              "      <th>liveness</th>\n",
              "      <th>valence</th>\n",
              "      <th>tempo</th>\n",
              "    </tr>\n",
              "  </thead>\n",
              "  <tbody>\n",
              "    <tr>\n",
              "      <th>PC1</th>\n",
              "      <td>-0.321901</td>\n",
              "      <td>-0.422998</td>\n",
              "      <td>-0.224928</td>\n",
              "      <td>-0.108958</td>\n",
              "      <td>0.563753</td>\n",
              "      <td>0.431790</td>\n",
              "      <td>-0.014081</td>\n",
              "      <td>-0.376583</td>\n",
              "      <td>-0.093353</td>\n",
              "    </tr>\n",
              "    <tr>\n",
              "      <th>PC2</th>\n",
              "      <td>-0.194220</td>\n",
              "      <td>0.301716</td>\n",
              "      <td>0.028734</td>\n",
              "      <td>0.068630</td>\n",
              "      <td>-0.551681</td>\n",
              "      <td>0.638781</td>\n",
              "      <td>0.061764</td>\n",
              "      <td>-0.347629</td>\n",
              "      <td>0.169281</td>\n",
              "    </tr>\n",
              "    <tr>\n",
              "      <th>PC3</th>\n",
              "      <td>0.336641</td>\n",
              "      <td>0.005922</td>\n",
              "      <td>-0.045809</td>\n",
              "      <td>-0.016330</td>\n",
              "      <td>0.143844</td>\n",
              "      <td>0.621743</td>\n",
              "      <td>-0.093854</td>\n",
              "      <td>0.682285</td>\n",
              "      <td>-0.051923</td>\n",
              "    </tr>\n",
              "    <tr>\n",
              "      <th>PC4</th>\n",
              "      <td>-0.224011</td>\n",
              "      <td>0.085215</td>\n",
              "      <td>0.031990</td>\n",
              "      <td>-0.113612</td>\n",
              "      <td>0.233917</td>\n",
              "      <td>-0.045917</td>\n",
              "      <td>0.050401</td>\n",
              "      <td>0.178319</td>\n",
              "      <td>0.915130</td>\n",
              "    </tr>\n",
              "    <tr>\n",
              "      <th>PC5</th>\n",
              "      <td>-0.371203</td>\n",
              "      <td>0.426566</td>\n",
              "      <td>0.112701</td>\n",
              "      <td>-0.284812</td>\n",
              "      <td>0.195852</td>\n",
              "      <td>0.005105</td>\n",
              "      <td>0.648713</td>\n",
              "      <td>0.201073</td>\n",
              "      <td>-0.294599</td>\n",
              "    </tr>\n",
              "    <tr>\n",
              "      <th>PC6</th>\n",
              "      <td>0.320999</td>\n",
              "      <td>0.023960</td>\n",
              "      <td>0.060493</td>\n",
              "      <td>0.733072</td>\n",
              "      <td>0.248329</td>\n",
              "      <td>0.054184</td>\n",
              "      <td>0.502997</td>\n",
              "      <td>-0.161286</td>\n",
              "      <td>0.108208</td>\n",
              "    </tr>\n",
              "    <tr>\n",
              "      <th>PC7</th>\n",
              "      <td>-0.220112</td>\n",
              "      <td>0.556622</td>\n",
              "      <td>0.260546</td>\n",
              "      <td>0.317748</td>\n",
              "      <td>0.378694</td>\n",
              "      <td>0.013062</td>\n",
              "      <td>-0.556444</td>\n",
              "      <td>-0.049402</td>\n",
              "      <td>-0.131242</td>\n",
              "    </tr>\n",
              "    <tr>\n",
              "      <th>PC8</th>\n",
              "      <td>-0.605486</td>\n",
              "      <td>-0.210068</td>\n",
              "      <td>-0.341097</td>\n",
              "      <td>0.497269</td>\n",
              "      <td>-0.228171</td>\n",
              "      <td>-0.079174</td>\n",
              "      <td>-0.020815</td>\n",
              "      <td>0.401051</td>\n",
              "      <td>-0.077645</td>\n",
              "    </tr>\n",
              "    <tr>\n",
              "      <th>PC9</th>\n",
              "      <td>0.198132</td>\n",
              "      <td>0.431572</td>\n",
              "      <td>-0.863057</td>\n",
              "      <td>-0.059079</td>\n",
              "      <td>0.083226</td>\n",
              "      <td>-0.086269</td>\n",
              "      <td>-0.027214</td>\n",
              "      <td>-0.101500</td>\n",
              "      <td>0.026823</td>\n",
              "    </tr>\n",
              "  </tbody>\n",
              "</table>\n",
              "</div>\n",
              "    <div class=\"colab-df-buttons\">\n",
              "\n",
              "  <div class=\"colab-df-container\">\n",
              "    <button class=\"colab-df-convert\" onclick=\"convertToInteractive('df-c544aa20-d267-4ca0-ad70-9acd63acd45e')\"\n",
              "            title=\"Convert this dataframe to an interactive table.\"\n",
              "            style=\"display:none;\">\n",
              "\n",
              "  <svg xmlns=\"http://www.w3.org/2000/svg\" height=\"24px\" viewBox=\"0 -960 960 960\">\n",
              "    <path d=\"M120-120v-720h720v720H120Zm60-500h600v-160H180v160Zm220 220h160v-160H400v160Zm0 220h160v-160H400v160ZM180-400h160v-160H180v160Zm440 0h160v-160H620v160ZM180-180h160v-160H180v160Zm440 0h160v-160H620v160Z\"/>\n",
              "  </svg>\n",
              "    </button>\n",
              "\n",
              "  <style>\n",
              "    .colab-df-container {\n",
              "      display:flex;\n",
              "      gap: 12px;\n",
              "    }\n",
              "\n",
              "    .colab-df-convert {\n",
              "      background-color: #E8F0FE;\n",
              "      border: none;\n",
              "      border-radius: 50%;\n",
              "      cursor: pointer;\n",
              "      display: none;\n",
              "      fill: #1967D2;\n",
              "      height: 32px;\n",
              "      padding: 0 0 0 0;\n",
              "      width: 32px;\n",
              "    }\n",
              "\n",
              "    .colab-df-convert:hover {\n",
              "      background-color: #E2EBFA;\n",
              "      box-shadow: 0px 1px 2px rgba(60, 64, 67, 0.3), 0px 1px 3px 1px rgba(60, 64, 67, 0.15);\n",
              "      fill: #174EA6;\n",
              "    }\n",
              "\n",
              "    .colab-df-buttons div {\n",
              "      margin-bottom: 4px;\n",
              "    }\n",
              "\n",
              "    [theme=dark] .colab-df-convert {\n",
              "      background-color: #3B4455;\n",
              "      fill: #D2E3FC;\n",
              "    }\n",
              "\n",
              "    [theme=dark] .colab-df-convert:hover {\n",
              "      background-color: #434B5C;\n",
              "      box-shadow: 0px 1px 3px 1px rgba(0, 0, 0, 0.15);\n",
              "      filter: drop-shadow(0px 1px 2px rgba(0, 0, 0, 0.3));\n",
              "      fill: #FFFFFF;\n",
              "    }\n",
              "  </style>\n",
              "\n",
              "    <script>\n",
              "      const buttonEl =\n",
              "        document.querySelector('#df-c544aa20-d267-4ca0-ad70-9acd63acd45e button.colab-df-convert');\n",
              "      buttonEl.style.display =\n",
              "        google.colab.kernel.accessAllowed ? 'block' : 'none';\n",
              "\n",
              "      async function convertToInteractive(key) {\n",
              "        const element = document.querySelector('#df-c544aa20-d267-4ca0-ad70-9acd63acd45e');\n",
              "        const dataTable =\n",
              "          await google.colab.kernel.invokeFunction('convertToInteractive',\n",
              "                                                    [key], {});\n",
              "        if (!dataTable) return;\n",
              "\n",
              "        const docLinkHtml = 'Like what you see? Visit the ' +\n",
              "          '<a target=\"_blank\" href=https://colab.research.google.com/notebooks/data_table.ipynb>data table notebook</a>'\n",
              "          + ' to learn more about interactive tables.';\n",
              "        element.innerHTML = '';\n",
              "        dataTable['output_type'] = 'display_data';\n",
              "        await google.colab.output.renderOutput(dataTable, element);\n",
              "        const docLink = document.createElement('div');\n",
              "        docLink.innerHTML = docLinkHtml;\n",
              "        element.appendChild(docLink);\n",
              "      }\n",
              "    </script>\n",
              "  </div>\n",
              "\n",
              "\n",
              "<div id=\"df-6727d573-0576-4b50-aac8-1e600b2de91d\">\n",
              "  <button class=\"colab-df-quickchart\" onclick=\"quickchart('df-6727d573-0576-4b50-aac8-1e600b2de91d')\"\n",
              "            title=\"Suggest charts\"\n",
              "            style=\"display:none;\">\n",
              "\n",
              "<svg xmlns=\"http://www.w3.org/2000/svg\" height=\"24px\"viewBox=\"0 0 24 24\"\n",
              "     width=\"24px\">\n",
              "    <g>\n",
              "        <path d=\"M19 3H5c-1.1 0-2 .9-2 2v14c0 1.1.9 2 2 2h14c1.1 0 2-.9 2-2V5c0-1.1-.9-2-2-2zM9 17H7v-7h2v7zm4 0h-2V7h2v10zm4 0h-2v-4h2v4z\"/>\n",
              "    </g>\n",
              "</svg>\n",
              "  </button>\n",
              "\n",
              "<style>\n",
              "  .colab-df-quickchart {\n",
              "      --bg-color: #E8F0FE;\n",
              "      --fill-color: #1967D2;\n",
              "      --hover-bg-color: #E2EBFA;\n",
              "      --hover-fill-color: #174EA6;\n",
              "      --disabled-fill-color: #AAA;\n",
              "      --disabled-bg-color: #DDD;\n",
              "  }\n",
              "\n",
              "  [theme=dark] .colab-df-quickchart {\n",
              "      --bg-color: #3B4455;\n",
              "      --fill-color: #D2E3FC;\n",
              "      --hover-bg-color: #434B5C;\n",
              "      --hover-fill-color: #FFFFFF;\n",
              "      --disabled-bg-color: #3B4455;\n",
              "      --disabled-fill-color: #666;\n",
              "  }\n",
              "\n",
              "  .colab-df-quickchart {\n",
              "    background-color: var(--bg-color);\n",
              "    border: none;\n",
              "    border-radius: 50%;\n",
              "    cursor: pointer;\n",
              "    display: none;\n",
              "    fill: var(--fill-color);\n",
              "    height: 32px;\n",
              "    padding: 0;\n",
              "    width: 32px;\n",
              "  }\n",
              "\n",
              "  .colab-df-quickchart:hover {\n",
              "    background-color: var(--hover-bg-color);\n",
              "    box-shadow: 0 1px 2px rgba(60, 64, 67, 0.3), 0 1px 3px 1px rgba(60, 64, 67, 0.15);\n",
              "    fill: var(--button-hover-fill-color);\n",
              "  }\n",
              "\n",
              "  .colab-df-quickchart-complete:disabled,\n",
              "  .colab-df-quickchart-complete:disabled:hover {\n",
              "    background-color: var(--disabled-bg-color);\n",
              "    fill: var(--disabled-fill-color);\n",
              "    box-shadow: none;\n",
              "  }\n",
              "\n",
              "  .colab-df-spinner {\n",
              "    border: 2px solid var(--fill-color);\n",
              "    border-color: transparent;\n",
              "    border-bottom-color: var(--fill-color);\n",
              "    animation:\n",
              "      spin 1s steps(1) infinite;\n",
              "  }\n",
              "\n",
              "  @keyframes spin {\n",
              "    0% {\n",
              "      border-color: transparent;\n",
              "      border-bottom-color: var(--fill-color);\n",
              "      border-left-color: var(--fill-color);\n",
              "    }\n",
              "    20% {\n",
              "      border-color: transparent;\n",
              "      border-left-color: var(--fill-color);\n",
              "      border-top-color: var(--fill-color);\n",
              "    }\n",
              "    30% {\n",
              "      border-color: transparent;\n",
              "      border-left-color: var(--fill-color);\n",
              "      border-top-color: var(--fill-color);\n",
              "      border-right-color: var(--fill-color);\n",
              "    }\n",
              "    40% {\n",
              "      border-color: transparent;\n",
              "      border-right-color: var(--fill-color);\n",
              "      border-top-color: var(--fill-color);\n",
              "    }\n",
              "    60% {\n",
              "      border-color: transparent;\n",
              "      border-right-color: var(--fill-color);\n",
              "    }\n",
              "    80% {\n",
              "      border-color: transparent;\n",
              "      border-right-color: var(--fill-color);\n",
              "      border-bottom-color: var(--fill-color);\n",
              "    }\n",
              "    90% {\n",
              "      border-color: transparent;\n",
              "      border-bottom-color: var(--fill-color);\n",
              "    }\n",
              "  }\n",
              "</style>\n",
              "\n",
              "  <script>\n",
              "    async function quickchart(key) {\n",
              "      const quickchartButtonEl =\n",
              "        document.querySelector('#' + key + ' button');\n",
              "      quickchartButtonEl.disabled = true;  // To prevent multiple clicks.\n",
              "      quickchartButtonEl.classList.add('colab-df-spinner');\n",
              "      try {\n",
              "        const charts = await google.colab.kernel.invokeFunction(\n",
              "            'suggestCharts', [key], {});\n",
              "      } catch (error) {\n",
              "        console.error('Error during call to suggestCharts:', error);\n",
              "      }\n",
              "      quickchartButtonEl.classList.remove('colab-df-spinner');\n",
              "      quickchartButtonEl.classList.add('colab-df-quickchart-complete');\n",
              "    }\n",
              "    (() => {\n",
              "      let quickchartButtonEl =\n",
              "        document.querySelector('#df-6727d573-0576-4b50-aac8-1e600b2de91d button');\n",
              "      quickchartButtonEl.style.display =\n",
              "        google.colab.kernel.accessAllowed ? 'block' : 'none';\n",
              "    })();\n",
              "  </script>\n",
              "</div>\n",
              "    </div>\n",
              "  </div>\n"
            ]
          },
          "metadata": {},
          "execution_count": 31
        }
      ]
    },
    {
      "cell_type": "code",
      "source": [
        "for i in range(1,10):\n",
        "    pca = PCA(n_components=i, random_state=213)\n",
        "    songs_pca = pca.fit_transform(songs_no_cluster)\n",
        "    kmeans = KMeans(n_init=10, n_clusters=48, random_state=213)  # or the number of clusters you've determined\n",
        "\n",
        "    # Fit the model and predict cluster labels\n",
        "    clusters = kmeans.fit_predict(songs_pca)\n",
        "\n",
        "    # Add to your dataframe\n",
        "    songs['cluster'] = clusters\n",
        "    silhouette_avg = silhouette_score(songs_pca, songs['cluster'], random_state=213)\n",
        "    print(f\"The average silhouette score for {i} number of components is:\", silhouette_avg)"
      ],
      "metadata": {
        "id": "Wxh554nJi5rC",
        "colab": {
          "base_uri": "https://localhost:8080/"
        },
        "outputId": "1220d389-c7c5-4d17-d0c0-a4ea040cd4f0"
      },
      "execution_count": null,
      "outputs": [
        {
          "output_type": "stream",
          "name": "stdout",
          "text": [
            "The average silhouette score for 1 number of components is: 0.5392107069546475\n",
            "The average silhouette score for 2 number of components is: 0.35074302576027894\n",
            "The average silhouette score for 3 number of components is: 0.31973684735431285\n",
            "The average silhouette score for 4 number of components is: 0.2524895299926336\n",
            "The average silhouette score for 5 number of components is: 0.20270180851259842\n",
            "The average silhouette score for 6 number of components is: 0.19110310976603653\n",
            "The average silhouette score for 7 number of components is: 0.17401267049291774\n",
            "The average silhouette score for 8 number of components is: 0.16939507783947974\n",
            "The average silhouette score for 9 number of components is: 0.15234903974163883\n"
          ]
        }
      ]
    },
    {
      "cell_type": "markdown",
      "source": [
        "\n",
        "Conclusion. PCA is not a great method. Let us move on."
      ],
      "metadata": {
        "id": "QYm05mFsi-RL"
      }
    },
    {
      "cell_type": "markdown",
      "source": [
        "## Feature Importance"
      ],
      "metadata": {
        "id": "SIiPy35vjGip"
      }
    },
    {
      "cell_type": "markdown",
      "source": [
        "### Extra Trees Classifier"
      ],
      "metadata": {
        "id": "z-cjwXQvjq_c"
      }
    },
    {
      "cell_type": "code",
      "source": [
        "# Tree model classifiers\n",
        "songs_without_cluster = songs.drop('cluster', axis=1)\n",
        "tree_model = ExtraTreesClassifier().fit(songs_without_cluster, clusters)\n",
        "feature_importance = tree_model.feature_importances_\n",
        "\n",
        "ranked_features = [x for _, x in sorted(zip(feature_importance, songs_without_cluster.columns), reverse=True)]\n",
        "print(\"Ranked Features:\", ranked_features)"
      ],
      "metadata": {
        "id": "Q2bXHjQSjyvo",
        "colab": {
          "base_uri": "https://localhost:8080/"
        },
        "outputId": "3e01de7c-437a-4614-c977-559bece5d42f"
      },
      "execution_count": null,
      "outputs": [
        {
          "output_type": "stream",
          "name": "stdout",
          "text": [
            "Ranked Features: ['valence', 'tempo', 'acousticness', 'danceability', 'energy', 'instrumentalness', 'speechiness', 'liveness', 'loudness']\n"
          ]
        }
      ]
    },
    {
      "cell_type": "code",
      "source": [
        "features_with_importance = sorted(list(zip(songs_without_cluster.columns, feature_importance)), key=lambda x: x[1], reverse=True)\n",
        "\n",
        "for feature, importance in features_with_importance:\n",
        "    print(f\"Feature: {feature}, Importance: {importance}\")"
      ],
      "metadata": {
        "id": "Xr575fOTpgvj",
        "colab": {
          "base_uri": "https://localhost:8080/"
        },
        "outputId": "f668e1fe-e9b9-4897-a7d1-686fe99b7fc2"
      },
      "execution_count": null,
      "outputs": [
        {
          "output_type": "stream",
          "name": "stdout",
          "text": [
            "Feature: valence, Importance: 0.14861439365626772\n",
            "Feature: tempo, Importance: 0.14634541441231858\n",
            "Feature: acousticness, Importance: 0.131588852646111\n",
            "Feature: danceability, Importance: 0.11642425511548665\n",
            "Feature: energy, Importance: 0.11351666352444859\n",
            "Feature: instrumentalness, Importance: 0.09571674076800511\n",
            "Feature: speechiness, Importance: 0.09265193922174243\n",
            "Feature: liveness, Importance: 0.08120843128829215\n",
            "Feature: loudness, Importance: 0.0739333093673277\n"
          ]
        }
      ]
    },
    {
      "cell_type": "markdown",
      "source": [
        "Conclusion: Keep all features since their importance is above at least 1%. Maybe look at correlation."
      ],
      "metadata": {
        "id": "3KkJfT1hpqZ0"
      }
    },
    {
      "cell_type": "markdown",
      "source": [
        "### Correlational Adjustments"
      ],
      "metadata": {
        "id": "mJDVjE7rpyrl"
      }
    },
    {
      "cell_type": "markdown",
      "source": [
        "Impact on Distance-based Models: In K-means or hierarchical clustering, correlated features might lead to distorted distances and thus clusters."
      ],
      "metadata": {
        "id": "fMoPEVq-p2Nu"
      }
    },
    {
      "cell_type": "markdown",
      "source": [
        "#### Correlation Matrix of Features"
      ],
      "metadata": {
        "id": "2YOG2UBkp5qm"
      }
    },
    {
      "cell_type": "markdown",
      "source": [
        "Let us look at the correlation between features, as to decide whether we can drop columns and refine our model."
      ],
      "metadata": {
        "id": "eXXpRjXxqCEF"
      }
    },
    {
      "cell_type": "code",
      "source": [
        "# Assuming songs_robust is your DataFrame\n",
        "songs_cluster = songs.drop('cluster', axis=1)\n",
        "correlation_matrix = songs_cluster[songs_cluster.columns].corr()"
      ],
      "metadata": {
        "id": "S5_AV60xqDBA"
      },
      "execution_count": null,
      "outputs": []
    },
    {
      "cell_type": "code",
      "source": [
        "plt.figure(figsize=(10,8))\n",
        "sns.heatmap(correlation_matrix, annot=True, cmap='coolwarm')\n",
        "plt.show()"
      ],
      "metadata": {
        "id": "VvJLefM2qJCG",
        "colab": {
          "base_uri": "https://localhost:8080/",
          "height": 773
        },
        "outputId": "d56f8651-2127-42d9-8604-293caa25831c"
      },
      "execution_count": null,
      "outputs": [
        {
          "output_type": "display_data",
          "data": {
            "text/plain": [
              "<Figure size 1000x800 with 2 Axes>"
            ],
            "image/png": "[encoded data removed]"
          },
          "metadata": {}
        }
      ]
    },
    {
      "cell_type": "markdown",
      "source": [
        "#### Dropping/ Keeping Variables"
      ],
      "metadata": {
        "id": "cpebS7RXqSUi"
      }
    },
    {
      "cell_type": "code",
      "source": [
        "songs_uncorrelated = songs.drop(columns=['energy', 'danceability', 'cluster'])\n",
        "# think about dropping danceability and energy due to correlation"
      ],
      "metadata": {
        "id": "9XUTEfcwqYG1"
      },
      "execution_count": null,
      "outputs": []
    },
    {
      "cell_type": "code",
      "source": [
        "kmeans = KMeans(n_init=10, n_clusters=48, random_state=213)  # random_state for reproducibility\n",
        "songs_uncorrelated['cluster'] = kmeans.fit_predict(songs_uncorrelated)"
      ],
      "metadata": {
        "id": "k6ME1sMXshmN"
      },
      "execution_count": null,
      "outputs": []
    },
    {
      "cell_type": "code",
      "source": [
        "# Assume kmeans is your clustering model and X is your data\n",
        "score = silhouette_score(songs_uncorrelated, kmeans.labels_, random_state=213)\n",
        "print(\"Silhouette Score: \", score)"
      ],
      "metadata": {
        "id": "OYnWcEsVske9",
        "colab": {
          "base_uri": "https://localhost:8080/"
        },
        "outputId": "d67c8c10-aa94-4601-89e8-44238ccdd526"
      },
      "execution_count": null,
      "outputs": [
        {
          "output_type": "stream",
          "name": "stdout",
          "text": [
            "Silhouette Score:  0.7731052861372529\n"
          ]
        }
      ]
    },
    {
      "cell_type": "markdown",
      "source": [
        "#### Looking at the two models"
      ],
      "metadata": {
        "id": "s6HwN46FtcRI"
      }
    },
    {
      "cell_type": "code",
      "source": [
        "songs_uncorrelated.loc[songs_uncorrelated['cluster']==45].sample(10)"
      ],
      "metadata": {
        "id": "TlU80IO0tdJ3",
        "colab": {
          "base_uri": "https://localhost:8080/",
          "height": 363
        },
        "outputId": "45008534-f918-4f4c-db45-3022636bce7e"
      },
      "execution_count": null,
      "outputs": [
        {
          "output_type": "execute_result",
          "data": {
            "text/plain": [
              "      loudness  speechiness  acousticness  instrumentalness  liveness  \\\n",
              "915   0.748829     0.071454      0.813253          0.781726  0.221197   \n",
              "831   0.604163     0.021889      0.528111          0.891371  0.075703   \n",
              "917   0.533292     0.045948      0.992972          0.907614  0.083273   \n",
              "822   0.666286     0.009768      0.637549          0.939086  0.096754   \n",
              "1339  0.585742     0.028220      0.953815          0.927919  0.061703   \n",
              "1351  0.658196     0.146165      0.872490          0.871066  0.138235   \n",
              "787   0.593920     0.042511      0.997992          0.908629  0.100902   \n",
              "1001  0.739377     0.149783      0.515059          0.957360  0.109198   \n",
              "784   0.496406     0.032019      0.942771          0.886294  0.097791   \n",
              "938   0.663230     0.092438      0.772088          0.503553  0.364306   \n",
              "\n",
              "       valence     tempo  cluster  \n",
              "915   0.434431  0.572339       45  \n",
              "831   0.307023  0.549233       45  \n",
              "917   0.597058  0.800203       45  \n",
              "822   0.449969  0.536374       45  \n",
              "1339  0.319453  0.619739       45  \n",
              "1351  0.341206  0.548913       45  \n",
              "787   0.350528  0.518113       45  \n",
              "1001  0.484152  0.698265       45  \n",
              "784   0.495546  0.646012       45  \n",
              "938   0.457220  0.837439       45  "
            ],
            "text/html": [
              "\n",
              "  <div id=\"df-358c5975-5864-4dc7-ae54-78f5d097e280\" class=\"colab-df-container\">\n",
              "    <div>\n",
              "<style scoped>\n",
              "    .dataframe tbody tr th:only-of-type {\n",
              "        vertical-align: middle;\n",
              "    }\n",
              "\n",
              "    .dataframe tbody tr th {\n",
              "        vertical-align: top;\n",
              "    }\n",
              "\n",
              "    .dataframe thead th {\n",
              "        text-align: right;\n",
              "    }\n",
              "</style>\n",
              "<table border=\"1\" class=\"dataframe\">\n",
              "  <thead>\n",
              "    <tr style=\"text-align: right;\">\n",
              "      <th></th>\n",
              "      <th>loudness</th>\n",
              "      <th>speechiness</th>\n",
              "      <th>acousticness</th>\n",
              "      <th>instrumentalness</th>\n",
              "      <th>liveness</th>\n",
              "      <th>valence</th>\n",
              "      <th>tempo</th>\n",
              "      <th>cluster</th>\n",
              "    </tr>\n",
              "  </thead>\n",
              "  <tbody>\n",
              "    <tr>\n",
              "      <th>915</th>\n",
              "      <td>0.748829</td>\n",
              "      <td>0.071454</td>\n",
              "      <td>0.813253</td>\n",
              "      <td>0.781726</td>\n",
              "      <td>0.221197</td>\n",
              "      <td>0.434431</td>\n",
              "      <td>0.572339</td>\n",
              "      <td>45</td>\n",
              "    </tr>\n",
              "    <tr>\n",
              "      <th>831</th>\n",
              "      <td>0.604163</td>\n",
              "      <td>0.021889</td>\n",
              "      <td>0.528111</td>\n",
              "      <td>0.891371</td>\n",
              "      <td>0.075703</td>\n",
              "      <td>0.307023</td>\n",
              "      <td>0.549233</td>\n",
              "      <td>45</td>\n",
              "    </tr>\n",
              "    <tr>\n",
              "      <th>917</th>\n",
              "      <td>0.533292</td>\n",
              "      <td>0.045948</td>\n",
              "      <td>0.992972</td>\n",
              "      <td>0.907614</td>\n",
              "      <td>0.083273</td>\n",
              "      <td>0.597058</td>\n",
              "      <td>0.800203</td>\n",
              "      <td>45</td>\n",
              "    </tr>\n",
              "    <tr>\n",
              "      <th>822</th>\n",
              "      <td>0.666286</td>\n",
              "      <td>0.009768</td>\n",
              "      <td>0.637549</td>\n",
              "      <td>0.939086</td>\n",
              "      <td>0.096754</td>\n",
              "      <td>0.449969</td>\n",
              "      <td>0.536374</td>\n",
              "      <td>45</td>\n",
              "    </tr>\n",
              "    <tr>\n",
              "      <th>1339</th>\n",
              "      <td>0.585742</td>\n",
              "      <td>0.028220</td>\n",
              "      <td>0.953815</td>\n",
              "      <td>0.927919</td>\n",
              "      <td>0.061703</td>\n",
              "      <td>0.319453</td>\n",
              "      <td>0.619739</td>\n",
              "      <td>45</td>\n",
              "    </tr>\n",
              "    <tr>\n",
              "      <th>1351</th>\n",
              "      <td>0.658196</td>\n",
              "      <td>0.146165</td>\n",
              "      <td>0.872490</td>\n",
              "      <td>0.871066</td>\n",
              "      <td>0.138235</td>\n",
              "      <td>0.341206</td>\n",
              "      <td>0.548913</td>\n",
              "      <td>45</td>\n",
              "    </tr>\n",
              "    <tr>\n",
              "      <th>787</th>\n",
              "      <td>0.593920</td>\n",
              "      <td>0.042511</td>\n",
              "      <td>0.997992</td>\n",
              "      <td>0.908629</td>\n",
              "      <td>0.100902</td>\n",
              "      <td>0.350528</td>\n",
              "      <td>0.518113</td>\n",
              "      <td>45</td>\n",
              "    </tr>\n",
              "    <tr>\n",
              "      <th>1001</th>\n",
              "      <td>0.739377</td>\n",
              "      <td>0.149783</td>\n",
              "      <td>0.515059</td>\n",
              "      <td>0.957360</td>\n",
              "      <td>0.109198</td>\n",
              "      <td>0.484152</td>\n",
              "      <td>0.698265</td>\n",
              "      <td>45</td>\n",
              "    </tr>\n",
              "    <tr>\n",
              "      <th>784</th>\n",
              "      <td>0.496406</td>\n",
              "      <td>0.032019</td>\n",
              "      <td>0.942771</td>\n",
              "      <td>0.886294</td>\n",
              "      <td>0.097791</td>\n",
              "      <td>0.495546</td>\n",
              "      <td>0.646012</td>\n",
              "      <td>45</td>\n",
              "    </tr>\n",
              "    <tr>\n",
              "      <th>938</th>\n",
              "      <td>0.663230</td>\n",
              "      <td>0.092438</td>\n",
              "      <td>0.772088</td>\n",
              "      <td>0.503553</td>\n",
              "      <td>0.364306</td>\n",
              "      <td>0.457220</td>\n",
              "      <td>0.837439</td>\n",
              "      <td>45</td>\n",
              "    </tr>\n",
              "  </tbody>\n",
              "</table>\n",
              "</div>\n",
              "    <div class=\"colab-df-buttons\">\n",
              "\n",
              "  <div class=\"colab-df-container\">\n",
              "    <button class=\"colab-df-convert\" onclick=\"convertToInteractive('df-358c5975-5864-4dc7-ae54-78f5d097e280')\"\n",
              "            title=\"Convert this dataframe to an interactive table.\"\n",
              "            style=\"display:none;\">\n",
              "\n",
              "  <svg xmlns=\"http://www.w3.org/2000/svg\" height=\"24px\" viewBox=\"0 -960 960 960\">\n",
              "    <path d=\"M120-120v-720h720v720H120Zm60-500h600v-160H180v160Zm220 220h160v-160H400v160Zm0 220h160v-160H400v160ZM180-400h160v-160H180v160Zm440 0h160v-160H620v160ZM180-180h160v-160H180v160Zm440 0h160v-160H620v160Z\"/>\n",
              "  </svg>\n",
              "    </button>\n",
              "\n",
              "  <style>\n",
              "    .colab-df-container {\n",
              "      display:flex;\n",
              "      gap: 12px;\n",
              "    }\n",
              "\n",
              "    .colab-df-convert {\n",
              "      background-color: #E8F0FE;\n",
              "      border: none;\n",
              "      border-radius: 50%;\n",
              "      cursor: pointer;\n",
              "      display: none;\n",
              "      fill: #1967D2;\n",
              "      height: 32px;\n",
              "      padding: 0 0 0 0;\n",
              "      width: 32px;\n",
              "    }\n",
              "\n",
              "    .colab-df-convert:hover {\n",
              "      background-color: #E2EBFA;\n",
              "      box-shadow: 0px 1px 2px rgba(60, 64, 67, 0.3), 0px 1px 3px 1px rgba(60, 64, 67, 0.15);\n",
              "      fill: #174EA6;\n",
              "    }\n",
              "\n",
              "    .colab-df-buttons div {\n",
              "      margin-bottom: 4px;\n",
              "    }\n",
              "\n",
              "    [theme=dark] .colab-df-convert {\n",
              "      background-color: #3B4455;\n",
              "      fill: #D2E3FC;\n",
              "    }\n",
              "\n",
              "    [theme=dark] .colab-df-convert:hover {\n",
              "      background-color: #434B5C;\n",
              "      box-shadow: 0px 1px 3px 1px rgba(0, 0, 0, 0.15);\n",
              "      filter: drop-shadow(0px 1px 2px rgba(0, 0, 0, 0.3));\n",
              "      fill: #FFFFFF;\n",
              "    }\n",
              "  </style>\n",
              "\n",
              "    <script>\n",
              "      const buttonEl =\n",
              "        document.querySelector('#df-358c5975-5864-4dc7-ae54-78f5d097e280 button.colab-df-convert');\n",
              "      buttonEl.style.display =\n",
              "        google.colab.kernel.accessAllowed ? 'block' : 'none';\n",
              "\n",
              "      async function convertToInteractive(key) {\n",
              "        const element = document.querySelector('#df-358c5975-5864-4dc7-ae54-78f5d097e280');\n",
              "        const dataTable =\n",
              "          await google.colab.kernel.invokeFunction('convertToInteractive',\n",
              "                                                    [key], {});\n",
              "        if (!dataTable) return;\n",
              "\n",
              "        const docLinkHtml = 'Like what you see? Visit the ' +\n",
              "          '<a target=\"_blank\" href=https://colab.research.google.com/notebooks/data_table.ipynb>data table notebook</a>'\n",
              "          + ' to learn more about interactive tables.';\n",
              "        element.innerHTML = '';\n",
              "        dataTable['output_type'] = 'display_data';\n",
              "        await google.colab.output.renderOutput(dataTable, element);\n",
              "        const docLink = document.createElement('div');\n",
              "        docLink.innerHTML = docLinkHtml;\n",
              "        element.appendChild(docLink);\n",
              "      }\n",
              "    </script>\n",
              "  </div>\n",
              "\n",
              "\n",
              "<div id=\"df-046a11c4-4156-4a5f-94ae-9c66b634e5d9\">\n",
              "  <button class=\"colab-df-quickchart\" onclick=\"quickchart('df-046a11c4-4156-4a5f-94ae-9c66b634e5d9')\"\n",
              "            title=\"Suggest charts\"\n",
              "            style=\"display:none;\">\n",
              "\n",
              "<svg xmlns=\"http://www.w3.org/2000/svg\" height=\"24px\"viewBox=\"0 0 24 24\"\n",
              "     width=\"24px\">\n",
              "    <g>\n",
              "        <path d=\"M19 3H5c-1.1 0-2 .9-2 2v14c0 1.1.9 2 2 2h14c1.1 0 2-.9 2-2V5c0-1.1-.9-2-2-2zM9 17H7v-7h2v7zm4 0h-2V7h2v10zm4 0h-2v-4h2v4z\"/>\n",
              "    </g>\n",
              "</svg>\n",
              "  </button>\n",
              "\n",
              "<style>\n",
              "  .colab-df-quickchart {\n",
              "      --bg-color: #E8F0FE;\n",
              "      --fill-color: #1967D2;\n",
              "      --hover-bg-color: #E2EBFA;\n",
              "      --hover-fill-color: #174EA6;\n",
              "      --disabled-fill-color: #AAA;\n",
              "      --disabled-bg-color: #DDD;\n",
              "  }\n",
              "\n",
              "  [theme=dark] .colab-df-quickchart {\n",
              "      --bg-color: #3B4455;\n",
              "      --fill-color: #D2E3FC;\n",
              "      --hover-bg-color: #434B5C;\n",
              "      --hover-fill-color: #FFFFFF;\n",
              "      --disabled-bg-color: #3B4455;\n",
              "      --disabled-fill-color: #666;\n",
              "  }\n",
              "\n",
              "  .colab-df-quickchart {\n",
              "    background-color: var(--bg-color);\n",
              "    border: none;\n",
              "    border-radius: 50%;\n",
              "    cursor: pointer;\n",
              "    display: none;\n",
              "    fill: var(--fill-color);\n",
              "    height: 32px;\n",
              "    padding: 0;\n",
              "    width: 32px;\n",
              "  }\n",
              "\n",
              "  .colab-df-quickchart:hover {\n",
              "    background-color: var(--hover-bg-color);\n",
              "    box-shadow: 0 1px 2px rgba(60, 64, 67, 0.3), 0 1px 3px 1px rgba(60, 64, 67, 0.15);\n",
              "    fill: var(--button-hover-fill-color);\n",
              "  }\n",
              "\n",
              "  .colab-df-quickchart-complete:disabled,\n",
              "  .colab-df-quickchart-complete:disabled:hover {\n",
              "    background-color: var(--disabled-bg-color);\n",
              "    fill: var(--disabled-fill-color);\n",
              "    box-shadow: none;\n",
              "  }\n",
              "\n",
              "  .colab-df-spinner {\n",
              "    border: 2px solid var(--fill-color);\n",
              "    border-color: transparent;\n",
              "    border-bottom-color: var(--fill-color);\n",
              "    animation:\n",
              "      spin 1s steps(1) infinite;\n",
              "  }\n",
              "\n",
              "  @keyframes spin {\n",
              "    0% {\n",
              "      border-color: transparent;\n",
              "      border-bottom-color: var(--fill-color);\n",
              "      border-left-color: var(--fill-color);\n",
              "    }\n",
              "    20% {\n",
              "      border-color: transparent;\n",
              "      border-left-color: var(--fill-color);\n",
              "      border-top-color: var(--fill-color);\n",
              "    }\n",
              "    30% {\n",
              "      border-color: transparent;\n",
              "      border-left-color: var(--fill-color);\n",
              "      border-top-color: var(--fill-color);\n",
              "      border-right-color: var(--fill-color);\n",
              "    }\n",
              "    40% {\n",
              "      border-color: transparent;\n",
              "      border-right-color: var(--fill-color);\n",
              "      border-top-color: var(--fill-color);\n",
              "    }\n",
              "    60% {\n",
              "      border-color: transparent;\n",
              "      border-right-color: var(--fill-color);\n",
              "    }\n",
              "    80% {\n",
              "      border-color: transparent;\n",
              "      border-right-color: var(--fill-color);\n",
              "      border-bottom-color: var(--fill-color);\n",
              "    }\n",
              "    90% {\n",
              "      border-color: transparent;\n",
              "      border-bottom-color: var(--fill-color);\n",
              "    }\n",
              "  }\n",
              "</style>\n",
              "\n",
              "  <script>\n",
              "    async function quickchart(key) {\n",
              "      const quickchartButtonEl =\n",
              "        document.querySelector('#' + key + ' button');\n",
              "      quickchartButtonEl.disabled = true;  // To prevent multiple clicks.\n",
              "      quickchartButtonEl.classList.add('colab-df-spinner');\n",
              "      try {\n",
              "        const charts = await google.colab.kernel.invokeFunction(\n",
              "            'suggestCharts', [key], {});\n",
              "      } catch (error) {\n",
              "        console.error('Error during call to suggestCharts:', error);\n",
              "      }\n",
              "      quickchartButtonEl.classList.remove('colab-df-spinner');\n",
              "      quickchartButtonEl.classList.add('colab-df-quickchart-complete');\n",
              "    }\n",
              "    (() => {\n",
              "      let quickchartButtonEl =\n",
              "        document.querySelector('#df-046a11c4-4156-4a5f-94ae-9c66b634e5d9 button');\n",
              "      quickchartButtonEl.style.display =\n",
              "        google.colab.kernel.accessAllowed ? 'block' : 'none';\n",
              "    })();\n",
              "  </script>\n",
              "</div>\n",
              "    </div>\n",
              "  </div>\n"
            ]
          },
          "metadata": {},
          "execution_count": 40
        }
      ]
    },
    {
      "cell_type": "code",
      "source": [
        "# Group by 'cluster' column and count observations\n",
        "cluster_counts = songs_uncorrelated.groupby('cluster').size().sort_values(ascending=False)\n",
        "\n",
        "cluster_counts"
      ],
      "metadata": {
        "id": "OUWOa7NNuezi",
        "colab": {
          "base_uri": "https://localhost:8080/"
        },
        "outputId": "aec2abf0-bafb-466f-f548-84537d6d4e69"
      },
      "execution_count": null,
      "outputs": [
        {
          "output_type": "execute_result",
          "data": {
            "text/plain": [
              "cluster\n",
              "27    87\n",
              "1     72\n",
              "0     56\n",
              "14    52\n",
              "3     52\n",
              "16    51\n",
              "47    51\n",
              "9     50\n",
              "24    46\n",
              "8     46\n",
              "38    45\n",
              "31    45\n",
              "23    43\n",
              "20    42\n",
              "39    37\n",
              "43    33\n",
              "18    32\n",
              "11    30\n",
              "42    30\n",
              "5     30\n",
              "22    30\n",
              "41    29\n",
              "25    29\n",
              "2     28\n",
              "10    28\n",
              "7     27\n",
              "29    26\n",
              "4     25\n",
              "46    23\n",
              "26    22\n",
              "30    22\n",
              "19    22\n",
              "40    20\n",
              "45    17\n",
              "44    17\n",
              "33    16\n",
              "21    14\n",
              "32    13\n",
              "28    12\n",
              "34    11\n",
              "13    11\n",
              "37    10\n",
              "12    10\n",
              "15     9\n",
              "6      9\n",
              "17     8\n",
              "35     7\n",
              "36     6\n",
              "dtype: int64"
            ]
          },
          "metadata": {},
          "execution_count": 41
        }
      ]
    },
    {
      "cell_type": "code",
      "source": [
        "kmeans = KMeans(n_init=10, n_clusters=48, random_state=213)  # random_state for reproducibility\n",
        "songs_uncorrelated['cluster'] = kmeans.fit_predict(songs_uncorrelated)\n",
        "# Assume kmeans is your clustering model and X is your data\n",
        "score = silhouette_score(songs_uncorrelated, kmeans.labels_, random_state=213)\n",
        "print(\"Silhouette Score: \", score)"
      ],
      "metadata": {
        "id": "zilKJ5K0uh9R",
        "colab": {
          "base_uri": "https://localhost:8080/"
        },
        "outputId": "854c1af0-5021-42ad-d82c-32b07df73c6a"
      },
      "execution_count": null,
      "outputs": [
        {
          "output_type": "stream",
          "name": "stdout",
          "text": [
            "Silhouette Score:  0.765568774942391\n"
          ]
        }
      ]
    },
    {
      "cell_type": "markdown",
      "source": [
        "Conclusion: The best model so far drops energy, danceability and uses the K-Means model while applying the MinMax Scaler. However, musically it makes more sense to include the two dropped variables, and thus, it gives another hint at the K-means model being inapprotriate for clustering songs."
      ],
      "metadata": {
        "id": "VqhkV54Lulh6"
      }
    },
    {
      "cell_type": "code",
      "source": [
        "# Group by 'cluster' column and count observations\n",
        "cluster_counts = songs.groupby('cluster').size().sort_values(ascending=False)\n",
        "\n",
        "cluster_counts"
      ],
      "metadata": {
        "id": "M2YeUyzUuo5U",
        "colab": {
          "base_uri": "https://localhost:8080/"
        },
        "outputId": "4aed2113-44e7-4dbd-ab57-c202d4c08aa9"
      },
      "execution_count": null,
      "outputs": [
        {
          "output_type": "execute_result",
          "data": {
            "text/plain": [
              "cluster\n",
              "33    58\n",
              "3     58\n",
              "30    58\n",
              "1     56\n",
              "26    52\n",
              "0     48\n",
              "12    46\n",
              "28    46\n",
              "41    44\n",
              "31    42\n",
              "22    40\n",
              "35    39\n",
              "7     37\n",
              "13    36\n",
              "9     36\n",
              "40    36\n",
              "21    35\n",
              "42    33\n",
              "27    33\n",
              "25    33\n",
              "45    32\n",
              "4     32\n",
              "15    31\n",
              "16    31\n",
              "46    30\n",
              "39    29\n",
              "2     28\n",
              "24    27\n",
              "20    27\n",
              "23    26\n",
              "17    25\n",
              "11    23\n",
              "19    21\n",
              "29    20\n",
              "14    20\n",
              "44    17\n",
              "38    17\n",
              "18    14\n",
              "47    14\n",
              "34    13\n",
              "8     13\n",
              "5     13\n",
              "36    11\n",
              "10    11\n",
              "32    11\n",
              "6     11\n",
              "37    10\n",
              "43     8\n",
              "dtype: int64"
            ]
          },
          "metadata": {},
          "execution_count": 43
        }
      ]
    },
    {
      "cell_type": "code",
      "source": [
        "songs.loc[songs['cluster']==25].sample(10)"
      ],
      "metadata": {
        "id": "Jl1oSXIHuq9E",
        "colab": {
          "base_uri": "https://localhost:8080/",
          "height": 363
        },
        "outputId": "3516d599-eccf-4dcf-bfdd-47d8819abc62"
      },
      "execution_count": null,
      "outputs": [
        {
          "output_type": "execute_result",
          "data": {
            "text/plain": [
              "      danceability    energy  loudness  speechiness  acousticness  \\\n",
              "223       0.699248  0.653607  0.794421     0.016643      0.293171   \n",
              "410       0.754533  0.822286  0.859489     0.046129      0.373493   \n",
              "383       0.846307  0.654611  0.906179     0.103111      0.583332   \n",
              "1016      0.786599  0.778108  0.834275     0.031295      0.241966   \n",
              "1249      0.909332  0.691761  0.887626     0.182344      0.391565   \n",
              "616       0.752322  0.724894  0.928909     0.101122      0.517067   \n",
              "1195      0.813136  0.786140  0.882262     0.036179      0.362448   \n",
              "1158      0.872844  0.703809  0.879273     0.066570      0.408633   \n",
              "1237      0.808713  0.747987  0.894924     0.041968      0.355420   \n",
              "1212      0.880584  0.525091  0.745752     0.195007      0.443774   \n",
              "\n",
              "      instrumentalness  liveness   valence     tempo  cluster  \n",
              "223           0.002447  0.087421  0.711001  0.307960       25  \n",
              "410           0.000000  0.265789  0.714108  0.436057       25  \n",
              "383           0.000000  0.075080  0.944065  0.295536       25  \n",
              "1016          0.006000  0.086384  0.833230  0.435885       25  \n",
              "1249          0.003299  0.030488  0.752434  0.308216       25  \n",
              "616           0.000000  0.055273  0.850839  0.577498       25  \n",
              "1195          0.000000  0.431712  0.807334  0.270208       25  \n",
              "1158          0.000000  0.094680  0.502797  0.308484       25  \n",
              "1237          0.000030  0.086384  0.829086  0.283003       25  \n",
              "1212          0.000000  0.034222  0.714108  0.359115       25  "
            ],
            "text/html": [
              "\n",
              "  <div id=\"df-9adf78e0-ce26-48d3-a43e-004236e4244a\" class=\"colab-df-container\">\n",
              "    <div>\n",
              "<style scoped>\n",
              "    .dataframe tbody tr th:only-of-type {\n",
              "        vertical-align: middle;\n",
              "    }\n",
              "\n",
              "    .dataframe tbody tr th {\n",
              "        vertical-align: top;\n",
              "    }\n",
              "\n",
              "    .dataframe thead th {\n",
              "        text-align: right;\n",
              "    }\n",
              "</style>\n",
              "<table border=\"1\" class=\"dataframe\">\n",
              "  <thead>\n",
              "    <tr style=\"text-align: right;\">\n",
              "      <th></th>\n",
              "      <th>danceability</th>\n",
              "      <th>energy</th>\n",
              "      <th>loudness</th>\n",
              "      <th>speechiness</th>\n",
              "      <th>acousticness</th>\n",
              "      <th>instrumentalness</th>\n",
              "      <th>liveness</th>\n",
              "      <th>valence</th>\n",
              "      <th>tempo</th>\n",
              "      <th>cluster</th>\n",
              "    </tr>\n",
              "  </thead>\n",
              "  <tbody>\n",
              "    <tr>\n",
              "      <th>223</th>\n",
              "      <td>0.699248</td>\n",
              "      <td>0.653607</td>\n",
              "      <td>0.794421</td>\n",
              "      <td>0.016643</td>\n",
              "      <td>0.293171</td>\n",
              "      <td>0.002447</td>\n",
              "      <td>0.087421</td>\n",
              "      <td>0.711001</td>\n",
              "      <td>0.307960</td>\n",
              "      <td>25</td>\n",
              "    </tr>\n",
              "    <tr>\n",
              "      <th>410</th>\n",
              "      <td>0.754533</td>\n",
              "      <td>0.822286</td>\n",
              "      <td>0.859489</td>\n",
              "      <td>0.046129</td>\n",
              "      <td>0.373493</td>\n",
              "      <td>0.000000</td>\n",
              "      <td>0.265789</td>\n",
              "      <td>0.714108</td>\n",
              "      <td>0.436057</td>\n",
              "      <td>25</td>\n",
              "    </tr>\n",
              "    <tr>\n",
              "      <th>383</th>\n",
              "      <td>0.846307</td>\n",
              "      <td>0.654611</td>\n",
              "      <td>0.906179</td>\n",
              "      <td>0.103111</td>\n",
              "      <td>0.583332</td>\n",
              "      <td>0.000000</td>\n",
              "      <td>0.075080</td>\n",
              "      <td>0.944065</td>\n",
              "      <td>0.295536</td>\n",
              "      <td>25</td>\n",
              "    </tr>\n",
              "    <tr>\n",
              "      <th>1016</th>\n",
              "      <td>0.786599</td>\n",
              "      <td>0.778108</td>\n",
              "      <td>0.834275</td>\n",
              "      <td>0.031295</td>\n",
              "      <td>0.241966</td>\n",
              "      <td>0.006000</td>\n",
              "      <td>0.086384</td>\n",
              "      <td>0.833230</td>\n",
              "      <td>0.435885</td>\n",
              "      <td>25</td>\n",
              "    </tr>\n",
              "    <tr>\n",
              "      <th>1249</th>\n",
              "      <td>0.909332</td>\n",
              "      <td>0.691761</td>\n",
              "      <td>0.887626</td>\n",
              "      <td>0.182344</td>\n",
              "      <td>0.391565</td>\n",
              "      <td>0.003299</td>\n",
              "      <td>0.030488</td>\n",
              "      <td>0.752434</td>\n",
              "      <td>0.308216</td>\n",
              "      <td>25</td>\n",
              "    </tr>\n",
              "    <tr>\n",
              "      <th>616</th>\n",
              "      <td>0.752322</td>\n",
              "      <td>0.724894</td>\n",
              "      <td>0.928909</td>\n",
              "      <td>0.101122</td>\n",
              "      <td>0.517067</td>\n",
              "      <td>0.000000</td>\n",
              "      <td>0.055273</td>\n",
              "      <td>0.850839</td>\n",
              "      <td>0.577498</td>\n",
              "      <td>25</td>\n",
              "    </tr>\n",
              "    <tr>\n",
              "      <th>1195</th>\n",
              "      <td>0.813136</td>\n",
              "      <td>0.786140</td>\n",
              "      <td>0.882262</td>\n",
              "      <td>0.036179</td>\n",
              "      <td>0.362448</td>\n",
              "      <td>0.000000</td>\n",
              "      <td>0.431712</td>\n",
              "      <td>0.807334</td>\n",
              "      <td>0.270208</td>\n",
              "      <td>25</td>\n",
              "    </tr>\n",
              "    <tr>\n",
              "      <th>1158</th>\n",
              "      <td>0.872844</td>\n",
              "      <td>0.703809</td>\n",
              "      <td>0.879273</td>\n",
              "      <td>0.066570</td>\n",
              "      <td>0.408633</td>\n",
              "      <td>0.000000</td>\n",
              "      <td>0.094680</td>\n",
              "      <td>0.502797</td>\n",
              "      <td>0.308484</td>\n",
              "      <td>25</td>\n",
              "    </tr>\n",
              "    <tr>\n",
              "      <th>1237</th>\n",
              "      <td>0.808713</td>\n",
              "      <td>0.747987</td>\n",
              "      <td>0.894924</td>\n",
              "      <td>0.041968</td>\n",
              "      <td>0.355420</td>\n",
              "      <td>0.000030</td>\n",
              "      <td>0.086384</td>\n",
              "      <td>0.829086</td>\n",
              "      <td>0.283003</td>\n",
              "      <td>25</td>\n",
              "    </tr>\n",
              "    <tr>\n",
              "      <th>1212</th>\n",
              "      <td>0.880584</td>\n",
              "      <td>0.525091</td>\n",
              "      <td>0.745752</td>\n",
              "      <td>0.195007</td>\n",
              "      <td>0.443774</td>\n",
              "      <td>0.000000</td>\n",
              "      <td>0.034222</td>\n",
              "      <td>0.714108</td>\n",
              "      <td>0.359115</td>\n",
              "      <td>25</td>\n",
              "    </tr>\n",
              "  </tbody>\n",
              "</table>\n",
              "</div>\n",
              "    <div class=\"colab-df-buttons\">\n",
              "\n",
              "  <div class=\"colab-df-container\">\n",
              "    <button class=\"colab-df-convert\" onclick=\"convertToInteractive('df-9adf78e0-ce26-48d3-a43e-004236e4244a')\"\n",
              "            title=\"Convert this dataframe to an interactive table.\"\n",
              "            style=\"display:none;\">\n",
              "\n",
              "  <svg xmlns=\"http://www.w3.org/2000/svg\" height=\"24px\" viewBox=\"0 -960 960 960\">\n",
              "    <path d=\"M120-120v-720h720v720H120Zm60-500h600v-160H180v160Zm220 220h160v-160H400v160Zm0 220h160v-160H400v160ZM180-400h160v-160H180v160Zm440 0h160v-160H620v160ZM180-180h160v-160H180v160Zm440 0h160v-160H620v160Z\"/>\n",
              "  </svg>\n",
              "    </button>\n",
              "\n",
              "  <style>\n",
              "    .colab-df-container {\n",
              "      display:flex;\n",
              "      gap: 12px;\n",
              "    }\n",
              "\n",
              "    .colab-df-convert {\n",
              "      background-color: #E8F0FE;\n",
              "      border: none;\n",
              "      border-radius: 50%;\n",
              "      cursor: pointer;\n",
              "      display: none;\n",
              "      fill: #1967D2;\n",
              "      height: 32px;\n",
              "      padding: 0 0 0 0;\n",
              "      width: 32px;\n",
              "    }\n",
              "\n",
              "    .colab-df-convert:hover {\n",
              "      background-color: #E2EBFA;\n",
              "      box-shadow: 0px 1px 2px rgba(60, 64, 67, 0.3), 0px 1px 3px 1px rgba(60, 64, 67, 0.15);\n",
              "      fill: #174EA6;\n",
              "    }\n",
              "\n",
              "    .colab-df-buttons div {\n",
              "      margin-bottom: 4px;\n",
              "    }\n",
              "\n",
              "    [theme=dark] .colab-df-convert {\n",
              "      background-color: #3B4455;\n",
              "      fill: #D2E3FC;\n",
              "    }\n",
              "\n",
              "    [theme=dark] .colab-df-convert:hover {\n",
              "      background-color: #434B5C;\n",
              "      box-shadow: 0px 1px 3px 1px rgba(0, 0, 0, 0.15);\n",
              "      filter: drop-shadow(0px 1px 2px rgba(0, 0, 0, 0.3));\n",
              "      fill: #FFFFFF;\n",
              "    }\n",
              "  </style>\n",
              "\n",
              "    <script>\n",
              "      const buttonEl =\n",
              "        document.querySelector('#df-9adf78e0-ce26-48d3-a43e-004236e4244a button.colab-df-convert');\n",
              "      buttonEl.style.display =\n",
              "        google.colab.kernel.accessAllowed ? 'block' : 'none';\n",
              "\n",
              "      async function convertToInteractive(key) {\n",
              "        const element = document.querySelector('#df-9adf78e0-ce26-48d3-a43e-004236e4244a');\n",
              "        const dataTable =\n",
              "          await google.colab.kernel.invokeFunction('convertToInteractive',\n",
              "                                                    [key], {});\n",
              "        if (!dataTable) return;\n",
              "\n",
              "        const docLinkHtml = 'Like what you see? Visit the ' +\n",
              "          '<a target=\"_blank\" href=https://colab.research.google.com/notebooks/data_table.ipynb>data table notebook</a>'\n",
              "          + ' to learn more about interactive tables.';\n",
              "        element.innerHTML = '';\n",
              "        dataTable['output_type'] = 'display_data';\n",
              "        await google.colab.output.renderOutput(dataTable, element);\n",
              "        const docLink = document.createElement('div');\n",
              "        docLink.innerHTML = docLinkHtml;\n",
              "        element.appendChild(docLink);\n",
              "      }\n",
              "    </script>\n",
              "  </div>\n",
              "\n",
              "\n",
              "<div id=\"df-336b00e5-44f0-48e7-a905-631f00bf01b3\">\n",
              "  <button class=\"colab-df-quickchart\" onclick=\"quickchart('df-336b00e5-44f0-48e7-a905-631f00bf01b3')\"\n",
              "            title=\"Suggest charts\"\n",
              "            style=\"display:none;\">\n",
              "\n",
              "<svg xmlns=\"http://www.w3.org/2000/svg\" height=\"24px\"viewBox=\"0 0 24 24\"\n",
              "     width=\"24px\">\n",
              "    <g>\n",
              "        <path d=\"M19 3H5c-1.1 0-2 .9-2 2v14c0 1.1.9 2 2 2h14c1.1 0 2-.9 2-2V5c0-1.1-.9-2-2-2zM9 17H7v-7h2v7zm4 0h-2V7h2v10zm4 0h-2v-4h2v4z\"/>\n",
              "    </g>\n",
              "</svg>\n",
              "  </button>\n",
              "\n",
              "<style>\n",
              "  .colab-df-quickchart {\n",
              "      --bg-color: #E8F0FE;\n",
              "      --fill-color: #1967D2;\n",
              "      --hover-bg-color: #E2EBFA;\n",
              "      --hover-fill-color: #174EA6;\n",
              "      --disabled-fill-color: #AAA;\n",
              "      --disabled-bg-color: #DDD;\n",
              "  }\n",
              "\n",
              "  [theme=dark] .colab-df-quickchart {\n",
              "      --bg-color: #3B4455;\n",
              "      --fill-color: #D2E3FC;\n",
              "      --hover-bg-color: #434B5C;\n",
              "      --hover-fill-color: #FFFFFF;\n",
              "      --disabled-bg-color: #3B4455;\n",
              "      --disabled-fill-color: #666;\n",
              "  }\n",
              "\n",
              "  .colab-df-quickchart {\n",
              "    background-color: var(--bg-color);\n",
              "    border: none;\n",
              "    border-radius: 50%;\n",
              "    cursor: pointer;\n",
              "    display: none;\n",
              "    fill: var(--fill-color);\n",
              "    height: 32px;\n",
              "    padding: 0;\n",
              "    width: 32px;\n",
              "  }\n",
              "\n",
              "  .colab-df-quickchart:hover {\n",
              "    background-color: var(--hover-bg-color);\n",
              "    box-shadow: 0 1px 2px rgba(60, 64, 67, 0.3), 0 1px 3px 1px rgba(60, 64, 67, 0.15);\n",
              "    fill: var(--button-hover-fill-color);\n",
              "  }\n",
              "\n",
              "  .colab-df-quickchart-complete:disabled,\n",
              "  .colab-df-quickchart-complete:disabled:hover {\n",
              "    background-color: var(--disabled-bg-color);\n",
              "    fill: var(--disabled-fill-color);\n",
              "    box-shadow: none;\n",
              "  }\n",
              "\n",
              "  .colab-df-spinner {\n",
              "    border: 2px solid var(--fill-color);\n",
              "    border-color: transparent;\n",
              "    border-bottom-color: var(--fill-color);\n",
              "    animation:\n",
              "      spin 1s steps(1) infinite;\n",
              "  }\n",
              "\n",
              "  @keyframes spin {\n",
              "    0% {\n",
              "      border-color: transparent;\n",
              "      border-bottom-color: var(--fill-color);\n",
              "      border-left-color: var(--fill-color);\n",
              "    }\n",
              "    20% {\n",
              "      border-color: transparent;\n",
              "      border-left-color: var(--fill-color);\n",
              "      border-top-color: var(--fill-color);\n",
              "    }\n",
              "    30% {\n",
              "      border-color: transparent;\n",
              "      border-left-color: var(--fill-color);\n",
              "      border-top-color: var(--fill-color);\n",
              "      border-right-color: var(--fill-color);\n",
              "    }\n",
              "    40% {\n",
              "      border-color: transparent;\n",
              "      border-right-color: var(--fill-color);\n",
              "      border-top-color: var(--fill-color);\n",
              "    }\n",
              "    60% {\n",
              "      border-color: transparent;\n",
              "      border-right-color: var(--fill-color);\n",
              "    }\n",
              "    80% {\n",
              "      border-color: transparent;\n",
              "      border-right-color: var(--fill-color);\n",
              "      border-bottom-color: var(--fill-color);\n",
              "    }\n",
              "    90% {\n",
              "      border-color: transparent;\n",
              "      border-bottom-color: var(--fill-color);\n",
              "    }\n",
              "  }\n",
              "</style>\n",
              "\n",
              "  <script>\n",
              "    async function quickchart(key) {\n",
              "      const quickchartButtonEl =\n",
              "        document.querySelector('#' + key + ' button');\n",
              "      quickchartButtonEl.disabled = true;  // To prevent multiple clicks.\n",
              "      quickchartButtonEl.classList.add('colab-df-spinner');\n",
              "      try {\n",
              "        const charts = await google.colab.kernel.invokeFunction(\n",
              "            'suggestCharts', [key], {});\n",
              "      } catch (error) {\n",
              "        console.error('Error during call to suggestCharts:', error);\n",
              "      }\n",
              "      quickchartButtonEl.classList.remove('colab-df-spinner');\n",
              "      quickchartButtonEl.classList.add('colab-df-quickchart-complete');\n",
              "    }\n",
              "    (() => {\n",
              "      let quickchartButtonEl =\n",
              "        document.querySelector('#df-336b00e5-44f0-48e7-a905-631f00bf01b3 button');\n",
              "      quickchartButtonEl.style.display =\n",
              "        google.colab.kernel.accessAllowed ? 'block' : 'none';\n",
              "    })();\n",
              "  </script>\n",
              "</div>\n",
              "    </div>\n",
              "  </div>\n"
            ]
          },
          "metadata": {},
          "execution_count": 44
        }
      ]
    },
    {
      "cell_type": "markdown",
      "source": [
        "#Export the data"
      ],
      "metadata": {
        "id": "8hFcQJ3V-xWm"
      }
    },
    {
      "cell_type": "code",
      "source": [
        "import os\n",
        "\n",
        "# Define the full path\n",
        "folder_path = '/content/drive/My Drive/DS Bootcamp/Machine Learning/Moosic_Kmeans'\n",
        "\n",
        "# Create the directory if it doesn't exist\n",
        "os.makedirs(folder_path, exist_ok=True)\n",
        "\n",
        "# Export songs to CSV\n",
        "songs.to_csv(f'{folder_path}/songs.csv', index=False)\n"
      ],
      "metadata": {
        "id": "2muaLfmWA8iJ"
      },
      "execution_count": null,
      "outputs": []
    },
    {
      "cell_type": "code",
      "source": [
        "# Export songs to CSV in a nested folder structure\n",
        "songs.to_csv('/content/drive/My Drive/DS Bootcamp/Machine Learning/Moosic_Kmeans/songs.csv', index=False)\n",
        "\n"
      ],
      "metadata": {
        "id": "_hJFertt-w9n"
      },
      "execution_count": null,
      "outputs": []
    },
    {
      "cell_type": "code",
      "source": [
        "# Export songs to CSV in a nested folder structure\n",
        "songs.to_csv('/content/drive/My Drive/DS Bootcamp/Machine Learning/Moosic_Kmeans/playlists.csv', index=False)\n",
        "\n"
      ],
      "metadata": {
        "id": "kyvRqQpNx_L6"
      },
      "execution_count": null,
      "outputs": []
    }
  ]
}